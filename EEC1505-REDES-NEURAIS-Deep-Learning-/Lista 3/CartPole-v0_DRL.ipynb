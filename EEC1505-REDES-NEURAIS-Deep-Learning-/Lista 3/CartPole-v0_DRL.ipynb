{
 "cells": [
  {
   "cell_type": "code",
   "execution_count": 1,
   "id": "cc7d5be7",
   "metadata": {},
   "outputs": [
    {
     "name": "stdout",
     "output_type": "stream",
     "text": [
      "Requirement already satisfied: tensorflow==2.3.0 in /home/pedro/.local/lib/python3.8/site-packages (2.3.0)\n",
      "Requirement already satisfied: opt-einsum>=2.3.2 in /home/pedro/.local/lib/python3.8/site-packages (from tensorflow==2.3.0) (3.3.0)\n",
      "Requirement already satisfied: tensorboard<3,>=2.3.0 in /home/pedro/.local/lib/python3.8/site-packages (from tensorflow==2.3.0) (2.6.0)\n",
      "Requirement already satisfied: termcolor>=1.1.0 in /home/pedro/.local/lib/python3.8/site-packages (from tensorflow==2.3.0) (1.1.0)\n",
      "Requirement already satisfied: wrapt>=1.11.1 in /home/pedro/.local/lib/python3.8/site-packages (from tensorflow==2.3.0) (1.13.2)\n",
      "Requirement already satisfied: tensorflow-estimator<2.4.0,>=2.3.0 in /home/pedro/.local/lib/python3.8/site-packages (from tensorflow==2.3.0) (2.3.0)\n",
      "Requirement already satisfied: protobuf>=3.9.2 in /home/pedro/.local/lib/python3.8/site-packages (from tensorflow==2.3.0) (3.18.1)\n",
      "Requirement already satisfied: numpy<1.19.0,>=1.16.0 in /home/pedro/.local/lib/python3.8/site-packages (from tensorflow==2.3.0) (1.18.5)\n",
      "Requirement already satisfied: wheel>=0.26 in /usr/lib/python3/dist-packages (from tensorflow==2.3.0) (0.34.2)\n",
      "Requirement already satisfied: h5py<2.11.0,>=2.10.0 in /home/pedro/.local/lib/python3.8/site-packages (from tensorflow==2.3.0) (2.10.0)\n",
      "Requirement already satisfied: keras-preprocessing<1.2,>=1.1.1 in /home/pedro/.local/lib/python3.8/site-packages (from tensorflow==2.3.0) (1.1.2)\n",
      "Requirement already satisfied: six>=1.12.0 in /usr/lib/python3/dist-packages (from tensorflow==2.3.0) (1.14.0)\n",
      "Requirement already satisfied: absl-py>=0.7.0 in /home/pedro/.local/lib/python3.8/site-packages (from tensorflow==2.3.0) (0.14.1)\n",
      "Requirement already satisfied: astunparse==1.6.3 in /home/pedro/.local/lib/python3.8/site-packages (from tensorflow==2.3.0) (1.6.3)\n",
      "Requirement already satisfied: google-pasta>=0.1.8 in /home/pedro/.local/lib/python3.8/site-packages (from tensorflow==2.3.0) (0.2.0)\n",
      "Requirement already satisfied: grpcio>=1.8.6 in /home/pedro/.local/lib/python3.8/site-packages (from tensorflow==2.3.0) (1.41.0)\n",
      "Requirement already satisfied: gast==0.3.3 in /home/pedro/.local/lib/python3.8/site-packages (from tensorflow==2.3.0) (0.3.3)\n",
      "Requirement already satisfied: scipy==1.4.1 in /home/pedro/.local/lib/python3.8/site-packages (from tensorflow==2.3.0) (1.4.1)\n",
      "Requirement already satisfied: requests<3,>=2.21.0 in /usr/lib/python3/dist-packages (from tensorboard<3,>=2.3.0->tensorflow==2.3.0) (2.22.0)\n",
      "Requirement already satisfied: setuptools>=41.0.0 in /usr/lib/python3/dist-packages (from tensorboard<3,>=2.3.0->tensorflow==2.3.0) (45.2.0)\n",
      "Requirement already satisfied: google-auth-oauthlib<0.5,>=0.4.1 in /home/pedro/.local/lib/python3.8/site-packages (from tensorboard<3,>=2.3.0->tensorflow==2.3.0) (0.4.6)\n",
      "Requirement already satisfied: google-auth<2,>=1.6.3 in /home/pedro/.local/lib/python3.8/site-packages (from tensorboard<3,>=2.3.0->tensorflow==2.3.0) (1.35.0)\n",
      "Requirement already satisfied: tensorboard-data-server<0.7.0,>=0.6.0 in /home/pedro/.local/lib/python3.8/site-packages (from tensorboard<3,>=2.3.0->tensorflow==2.3.0) (0.6.1)\n",
      "Requirement already satisfied: werkzeug>=0.11.15 in /home/pedro/.local/lib/python3.8/site-packages (from tensorboard<3,>=2.3.0->tensorflow==2.3.0) (2.0.2)\n",
      "Requirement already satisfied: tensorboard-plugin-wit>=1.6.0 in /home/pedro/.local/lib/python3.8/site-packages (from tensorboard<3,>=2.3.0->tensorflow==2.3.0) (1.8.0)\n",
      "Requirement already satisfied: markdown>=2.6.8 in /home/pedro/.local/lib/python3.8/site-packages (from tensorboard<3,>=2.3.0->tensorflow==2.3.0) (3.3.4)\n",
      "Requirement already satisfied: requests-oauthlib>=0.7.0 in /home/pedro/.local/lib/python3.8/site-packages (from google-auth-oauthlib<0.5,>=0.4.1->tensorboard<3,>=2.3.0->tensorflow==2.3.0) (1.3.0)\n",
      "Requirement already satisfied: pyasn1-modules>=0.2.1 in /usr/lib/python3/dist-packages (from google-auth<2,>=1.6.3->tensorboard<3,>=2.3.0->tensorflow==2.3.0) (0.2.1)\n",
      "Requirement already satisfied: cachetools<5.0,>=2.0.0 in /usr/lib/python3/dist-packages (from google-auth<2,>=1.6.3->tensorboard<3,>=2.3.0->tensorflow==2.3.0) (4.0.0)\n",
      "Requirement already satisfied: rsa<5,>=3.1.4; python_version >= \"3.6\" in /usr/lib/python3/dist-packages (from google-auth<2,>=1.6.3->tensorboard<3,>=2.3.0->tensorflow==2.3.0) (4.0)\n",
      "Requirement already satisfied: oauthlib>=3.0.0 in /usr/lib/python3/dist-packages (from requests-oauthlib>=0.7.0->google-auth-oauthlib<0.5,>=0.4.1->tensorboard<3,>=2.3.0->tensorflow==2.3.0) (3.1.0)\n",
      "Requirement already satisfied: gym in /home/pedro/.local/lib/python3.8/site-packages (0.21.0)\n",
      "Requirement already satisfied: cloudpickle>=1.2.0 in /home/pedro/.local/lib/python3.8/site-packages (from gym) (2.0.0)\n",
      "Requirement already satisfied: numpy>=1.18.0 in /home/pedro/.local/lib/python3.8/site-packages (from gym) (1.18.5)\n",
      "Requirement already satisfied: keras in /home/pedro/.local/lib/python3.8/site-packages (2.6.0)\n",
      "Requirement already satisfied: keras-rl2 in /home/pedro/.local/lib/python3.8/site-packages (1.0.5)\n",
      "Requirement already satisfied: tensorflow in /home/pedro/.local/lib/python3.8/site-packages (from keras-rl2) (2.3.0)\n",
      "Requirement already satisfied: wheel>=0.26 in /usr/lib/python3/dist-packages (from tensorflow->keras-rl2) (0.34.2)\n",
      "Requirement already satisfied: grpcio>=1.8.6 in /home/pedro/.local/lib/python3.8/site-packages (from tensorflow->keras-rl2) (1.41.0)\n",
      "Requirement already satisfied: six>=1.12.0 in /usr/lib/python3/dist-packages (from tensorflow->keras-rl2) (1.14.0)\n",
      "Requirement already satisfied: keras-preprocessing<1.2,>=1.1.1 in /home/pedro/.local/lib/python3.8/site-packages (from tensorflow->keras-rl2) (1.1.2)\n",
      "Requirement already satisfied: opt-einsum>=2.3.2 in /home/pedro/.local/lib/python3.8/site-packages (from tensorflow->keras-rl2) (3.3.0)\n",
      "Requirement already satisfied: h5py<2.11.0,>=2.10.0 in /home/pedro/.local/lib/python3.8/site-packages (from tensorflow->keras-rl2) (2.10.0)\n",
      "Requirement already satisfied: numpy<1.19.0,>=1.16.0 in /home/pedro/.local/lib/python3.8/site-packages (from tensorflow->keras-rl2) (1.18.5)\n",
      "Requirement already satisfied: wrapt>=1.11.1 in /home/pedro/.local/lib/python3.8/site-packages (from tensorflow->keras-rl2) (1.13.2)\n",
      "Requirement already satisfied: protobuf>=3.9.2 in /home/pedro/.local/lib/python3.8/site-packages (from tensorflow->keras-rl2) (3.18.1)\n",
      "Requirement already satisfied: absl-py>=0.7.0 in /home/pedro/.local/lib/python3.8/site-packages (from tensorflow->keras-rl2) (0.14.1)\n",
      "Requirement already satisfied: gast==0.3.3 in /home/pedro/.local/lib/python3.8/site-packages (from tensorflow->keras-rl2) (0.3.3)\n",
      "Requirement already satisfied: tensorboard<3,>=2.3.0 in /home/pedro/.local/lib/python3.8/site-packages (from tensorflow->keras-rl2) (2.6.0)\n",
      "Requirement already satisfied: scipy==1.4.1 in /home/pedro/.local/lib/python3.8/site-packages (from tensorflow->keras-rl2) (1.4.1)\n",
      "Requirement already satisfied: astunparse==1.6.3 in /home/pedro/.local/lib/python3.8/site-packages (from tensorflow->keras-rl2) (1.6.3)\n",
      "Requirement already satisfied: google-pasta>=0.1.8 in /home/pedro/.local/lib/python3.8/site-packages (from tensorflow->keras-rl2) (0.2.0)\n",
      "Requirement already satisfied: tensorflow-estimator<2.4.0,>=2.3.0 in /home/pedro/.local/lib/python3.8/site-packages (from tensorflow->keras-rl2) (2.3.0)\n",
      "Requirement already satisfied: termcolor>=1.1.0 in /home/pedro/.local/lib/python3.8/site-packages (from tensorflow->keras-rl2) (1.1.0)\n",
      "Requirement already satisfied: requests<3,>=2.21.0 in /usr/lib/python3/dist-packages (from tensorboard<3,>=2.3.0->tensorflow->keras-rl2) (2.22.0)\n",
      "Requirement already satisfied: google-auth<2,>=1.6.3 in /home/pedro/.local/lib/python3.8/site-packages (from tensorboard<3,>=2.3.0->tensorflow->keras-rl2) (1.35.0)\n",
      "Requirement already satisfied: werkzeug>=0.11.15 in /home/pedro/.local/lib/python3.8/site-packages (from tensorboard<3,>=2.3.0->tensorflow->keras-rl2) (2.0.2)\n",
      "Requirement already satisfied: setuptools>=41.0.0 in /usr/lib/python3/dist-packages (from tensorboard<3,>=2.3.0->tensorflow->keras-rl2) (45.2.0)\n",
      "Requirement already satisfied: tensorboard-data-server<0.7.0,>=0.6.0 in /home/pedro/.local/lib/python3.8/site-packages (from tensorboard<3,>=2.3.0->tensorflow->keras-rl2) (0.6.1)\n",
      "Requirement already satisfied: markdown>=2.6.8 in /home/pedro/.local/lib/python3.8/site-packages (from tensorboard<3,>=2.3.0->tensorflow->keras-rl2) (3.3.4)\n",
      "Requirement already satisfied: tensorboard-plugin-wit>=1.6.0 in /home/pedro/.local/lib/python3.8/site-packages (from tensorboard<3,>=2.3.0->tensorflow->keras-rl2) (1.8.0)\n",
      "Requirement already satisfied: google-auth-oauthlib<0.5,>=0.4.1 in /home/pedro/.local/lib/python3.8/site-packages (from tensorboard<3,>=2.3.0->tensorflow->keras-rl2) (0.4.6)\n",
      "Requirement already satisfied: rsa<5,>=3.1.4; python_version >= \"3.6\" in /usr/lib/python3/dist-packages (from google-auth<2,>=1.6.3->tensorboard<3,>=2.3.0->tensorflow->keras-rl2) (4.0)\r\n",
      "Requirement already satisfied: pyasn1-modules>=0.2.1 in /usr/lib/python3/dist-packages (from google-auth<2,>=1.6.3->tensorboard<3,>=2.3.0->tensorflow->keras-rl2) (0.2.1)\r\n",
      "Requirement already satisfied: cachetools<5.0,>=2.0.0 in /usr/lib/python3/dist-packages (from google-auth<2,>=1.6.3->tensorboard<3,>=2.3.0->tensorflow->keras-rl2) (4.0.0)\r\n",
      "Requirement already satisfied: requests-oauthlib>=0.7.0 in /home/pedro/.local/lib/python3.8/site-packages (from google-auth-oauthlib<0.5,>=0.4.1->tensorboard<3,>=2.3.0->tensorflow->keras-rl2) (1.3.0)\r\n",
      "Requirement already satisfied: oauthlib>=3.0.0 in /usr/lib/python3/dist-packages (from requests-oauthlib>=0.7.0->google-auth-oauthlib<0.5,>=0.4.1->tensorboard<3,>=2.3.0->tensorflow->keras-rl2) (3.1.0)\r\n"
     ]
    }
   ],
   "source": [
    "!pip install tensorflow==2.3.0\n",
    "!pip install gym\n",
    "!pip install keras\n",
    "!pip install keras-rl2"
   ]
  },
  {
   "cell_type": "code",
   "execution_count": 3,
   "id": "e1bf0a0d",
   "metadata": {},
   "outputs": [
    {
     "name": "stdout",
     "output_type": "stream",
     "text": [
      "Requirement already satisfied: pyglet in /home/pedro/.local/lib/python3.8/site-packages (1.5.21)\r\n"
     ]
    }
   ],
   "source": [
    "!pip install pyglet"
   ]
  },
  {
   "cell_type": "markdown",
   "id": "5cedfb1b",
   "metadata": {},
   "source": [
    "# **Environment (CartPole-v0) with OpenAI Gym**"
   ]
  },
  {
   "cell_type": "code",
   "execution_count": 4,
   "id": "afb6a1ea",
   "metadata": {},
   "outputs": [],
   "source": [
    "import gym\n",
    "import random"
   ]
  },
  {
   "cell_type": "code",
   "execution_count": 5,
   "id": "d10bdea1",
   "metadata": {},
   "outputs": [],
   "source": [
    "env = gym.make('CartPole-v0')\n",
    "states = env.observation_space.shape[0]\n",
    "actions = env.action_space.n"
   ]
  },
  {
   "cell_type": "code",
   "execution_count": 6,
   "id": "0a67bd09",
   "metadata": {},
   "outputs": [
    {
     "name": "stdout",
     "output_type": "stream",
     "text": [
      "States: 4\n"
     ]
    }
   ],
   "source": [
    "# Cart position\n",
    "# Cart velocity\n",
    "# Pole angle\n",
    "# Pole velocity at tip\n",
    "print('States:', states)"
   ]
  },
  {
   "cell_type": "code",
   "execution_count": 7,
   "id": "158a901d",
   "metadata": {},
   "outputs": [
    {
     "name": "stdout",
     "output_type": "stream",
     "text": [
      "Actions: 2\n"
     ]
    }
   ],
   "source": [
    "# push cart to the left\n",
    "# push cart to the right\n",
    "print('Actions:', actions)"
   ]
  },
  {
   "cell_type": "markdown",
   "id": "9072e604",
   "metadata": {},
   "source": [
    "# **Test Before Use Deep Reinforcement Learning (DRL)**"
   ]
  },
  {
   "cell_type": "code",
   "execution_count": 8,
   "id": "89724e23",
   "metadata": {},
   "outputs": [
    {
     "name": "stdout",
     "output_type": "stream",
     "text": [
      "Episode:1 Score:28.0\n",
      "Episode:2 Score:17.0\n",
      "Episode:3 Score:20.0\n",
      "Episode:4 Score:14.0\n",
      "Episode:5 Score:15.0\n",
      "Episode:6 Score:17.0\n",
      "Episode:7 Score:10.0\n",
      "Episode:8 Score:29.0\n",
      "Episode:9 Score:17.0\n",
      "Episode:10 Score:20.0\n",
      "Episode:11 Score:19.0\n",
      "Episode:12 Score:17.0\n",
      "Episode:13 Score:14.0\n",
      "Episode:14 Score:12.0\n",
      "Episode:15 Score:15.0\n",
      "Episode:16 Score:26.0\n",
      "Episode:17 Score:41.0\n",
      "Episode:18 Score:13.0\n",
      "Episode:19 Score:16.0\n",
      "Episode:20 Score:11.0\n",
      "Episode:21 Score:41.0\n",
      "Episode:22 Score:45.0\n",
      "Episode:23 Score:28.0\n",
      "Episode:24 Score:40.0\n",
      "Episode:25 Score:11.0\n",
      "Episode:26 Score:15.0\n",
      "Episode:27 Score:39.0\n",
      "Episode:28 Score:17.0\n",
      "Episode:29 Score:16.0\n",
      "Episode:30 Score:54.0\n"
     ]
    }
   ],
   "source": [
    "episodes = 30 # match number\n",
    "for episode in range(1, episodes+1):\n",
    "  state = env.reset()\n",
    "  done = False\n",
    "  score = 0\n",
    "\n",
    "  while not done:\n",
    "    env.render()\n",
    "    action = random.choice([0,1])\n",
    "    n_state, reward, done, info = env.step(action)\n",
    "    score+=reward\n",
    "  print('Episode:{} Score:{}'.format(episode, score)) "
   ]
  },
  {
   "cell_type": "markdown",
   "id": "03d3c351",
   "metadata": {},
   "source": [
    "# **Deep Learning Model (MLP) with Keras**"
   ]
  },
  {
   "cell_type": "code",
   "execution_count": 25,
   "id": "b82d3ff6",
   "metadata": {},
   "outputs": [],
   "source": [
    "import numpy as np\n",
    "from tensorflow.keras.models import Sequential\n",
    "from tensorflow.keras.layers import Dense, Flatten\n",
    "from tensorflow.keras.optimizers import Adam\n",
    "import tensorflow as tf"
   ]
  },
  {
   "cell_type": "code",
   "execution_count": 26,
   "id": "e03adf78",
   "metadata": {},
   "outputs": [],
   "source": [
    "# MLP => 2 hidden layers with 24 neurons in each one\n",
    "#        4 neurons for each state in the input layer\n",
    "#        2 neurons for each action in the output layer\n",
    "#        activation function for all the hidden layers = relu \n",
    "def build_model(states, actions):\n",
    "    model = tf.keras.Sequential()\n",
    "    model.add(Flatten(input_shape=(1,states)))\n",
    "    model.add(Dense(24, activation='relu'))\n",
    "    model.add(Dense(24, activation='relu'))\n",
    "    model.add(Dense(actions, activation='linear'))\n",
    "    return model"
   ]
  },
  {
   "cell_type": "code",
   "execution_count": 32,
   "id": "a4e20100",
   "metadata": {},
   "outputs": [
    {
     "name": "stdout",
     "output_type": "stream",
     "text": [
      "Model: \"sequential_2\"\n",
      "_________________________________________________________________\n",
      "Layer (type)                 Output Shape              Param #   \n",
      "=================================================================\n",
      "flatten_2 (Flatten)          (None, 4)                 0         \n",
      "_________________________________________________________________\n",
      "dense_6 (Dense)              (None, 24)                120       \n",
      "_________________________________________________________________\n",
      "dense_7 (Dense)              (None, 24)                600       \n",
      "_________________________________________________________________\n",
      "dense_8 (Dense)              (None, 2)                 50        \n",
      "=================================================================\n",
      "Total params: 770\n",
      "Trainable params: 770\n",
      "Non-trainable params: 0\n",
      "_________________________________________________________________\n"
     ]
    }
   ],
   "source": [
    "# MLP structure\n",
    "model = build_model(states, actions)\n",
    "model.summary()"
   ]
  },
  {
   "cell_type": "markdown",
   "id": "4d4b5c9e",
   "metadata": {},
   "source": [
    "# **Build Agent with Keras-DRL (Deep Reinforcement Learning)**"
   ]
  },
  {
   "cell_type": "code",
   "execution_count": 33,
   "id": "8d54ab06",
   "metadata": {},
   "outputs": [],
   "source": [
    "from rl.agents import DQNAgent\n",
    "from rl.policy import BoltzmannQPolicy\n",
    "from rl.memory import SequentialMemory"
   ]
  },
  {
   "cell_type": "code",
   "execution_count": 34,
   "id": "97a97f1f",
   "metadata": {},
   "outputs": [],
   "source": [
    "def build_agent(model, actions):\n",
    "    policy = BoltzmannQPolicy()\n",
    "    memory = SequentialMemory(limit=50000, window_length=1)\n",
    "    dqn = DQNAgent(model=model, memory=memory, policy=policy, \n",
    "                  nb_actions=actions, nb_steps_warmup=10, target_model_update=1e-2)\n",
    "    return dqn"
   ]
  },
  {
   "cell_type": "markdown",
   "id": "b17ea76a",
   "metadata": {},
   "source": [
    "# **DRL Training**"
   ]
  },
  {
   "cell_type": "code",
   "execution_count": 35,
   "id": "5afec40d",
   "metadata": {},
   "outputs": [
    {
     "name": "stdout",
     "output_type": "stream",
     "text": [
      "Training for 50000 steps ...\n",
      "Interval 1 (0 steps performed)\n",
      "WARNING:tensorflow:From /home/pedro/.local/lib/python3.8/site-packages/tensorflow/python/keras/engine/training_v1.py:2070: Model.state_updates (from tensorflow.python.keras.engine.training) is deprecated and will be removed in a future version.\n",
      "Instructions for updating:\n",
      "This property should not be used in TensorFlow 2.0, as updates are applied automatically.\n",
      "    1/10000 [..............................] - ETA: 26:26 - reward: 1.0000"
     ]
    },
    {
     "name": "stderr",
     "output_type": "stream",
     "text": [
      "/home/pedro/.local/lib/python3.8/site-packages/rl/memory.py:37: UserWarning: Not enough entries to sample without replacement. Consider increasing your warm-up phase to avoid oversampling!\n",
      "  warnings.warn('Not enough entries to sample without replacement. Consider increasing your warm-up phase to avoid oversampling!')\n"
     ]
    },
    {
     "name": "stdout",
     "output_type": "stream",
     "text": [
      "10000/10000 [==============================] - 129s 13ms/step - reward: 1.0000\n",
      "109 episodes - episode_reward: 90.092 [8.000, 200.000] - loss: 2.412 - mae: 19.514 - mean_q: 39.526\n",
      "\n",
      "Interval 2 (10000 steps performed)\n",
      "10000/10000 [==============================] - 150s 15ms/step - reward: 1.0000\n",
      "52 episodes - episode_reward: 192.462 [167.000, 200.000] - loss: 3.496 - mae: 40.272 - mean_q: 81.317\n",
      "\n",
      "Interval 3 (20000 steps performed)\n",
      "10000/10000 [==============================] - 113s 11ms/step - reward: 1.0000\n",
      "52 episodes - episode_reward: 195.288 [172.000, 200.000] - loss: 2.528 - mae: 40.471 - mean_q: 81.486\n",
      "\n",
      "Interval 4 (30000 steps performed)\n",
      "10000/10000 [==============================] - 113s 11ms/step - reward: 1.0000\n",
      "50 episodes - episode_reward: 196.780 [166.000, 200.000] - loss: 2.684 - mae: 37.568 - mean_q: 75.457\n",
      "\n",
      "Interval 5 (40000 steps performed)\n",
      "10000/10000 [==============================] - 101s 10ms/step - reward: 1.0000\n",
      "done, took 606.589 seconds\n"
     ]
    },
    {
     "data": {
      "text/plain": [
       "<tensorflow.python.keras.callbacks.History at 0x7f8df0319190>"
      ]
     },
     "execution_count": 35,
     "metadata": {},
     "output_type": "execute_result"
    }
   ],
   "source": [
    "dqn = build_agent(model, actions)\n",
    "dqn.compile(Adam(lr=1e-3), metrics=['mae'])\n",
    "dqn.fit(env, nb_steps=50000, visualize=False, verbose=1)"
   ]
  },
  {
   "cell_type": "markdown",
   "id": "bcc3b274",
   "metadata": {},
   "source": [
    "# **DEL Test**"
   ]
  },
  {
   "cell_type": "code",
   "execution_count": 36,
   "id": "dd4aca60",
   "metadata": {},
   "outputs": [
    {
     "name": "stdout",
     "output_type": "stream",
     "text": [
      "Testing for 100 episodes ...\n",
      "Episode 1: reward: 124.000, steps: 124\n",
      "Episode 2: reward: 114.000, steps: 114\n",
      "Episode 3: reward: 129.000, steps: 129\n",
      "Episode 4: reward: 123.000, steps: 123\n",
      "Episode 5: reward: 200.000, steps: 200\n",
      "Episode 6: reward: 147.000, steps: 147\n",
      "Episode 7: reward: 150.000, steps: 150\n",
      "Episode 8: reward: 138.000, steps: 138\n",
      "Episode 9: reward: 109.000, steps: 109\n",
      "Episode 10: reward: 122.000, steps: 122\n",
      "Episode 11: reward: 135.000, steps: 135\n",
      "Episode 12: reward: 200.000, steps: 200\n",
      "Episode 13: reward: 132.000, steps: 132\n",
      "Episode 14: reward: 200.000, steps: 200\n",
      "Episode 15: reward: 168.000, steps: 168\n",
      "Episode 16: reward: 151.000, steps: 151\n",
      "Episode 17: reward: 111.000, steps: 111\n",
      "Episode 18: reward: 154.000, steps: 154\n",
      "Episode 19: reward: 127.000, steps: 127\n",
      "Episode 20: reward: 114.000, steps: 114\n",
      "Episode 21: reward: 119.000, steps: 119\n",
      "Episode 22: reward: 174.000, steps: 174\n",
      "Episode 23: reward: 185.000, steps: 185\n",
      "Episode 24: reward: 158.000, steps: 158\n",
      "Episode 25: reward: 186.000, steps: 186\n",
      "Episode 26: reward: 131.000, steps: 131\n",
      "Episode 27: reward: 139.000, steps: 139\n",
      "Episode 28: reward: 156.000, steps: 156\n",
      "Episode 29: reward: 116.000, steps: 116\n",
      "Episode 30: reward: 108.000, steps: 108\n",
      "Episode 31: reward: 106.000, steps: 106\n",
      "Episode 32: reward: 116.000, steps: 116\n",
      "Episode 33: reward: 136.000, steps: 136\n",
      "Episode 34: reward: 122.000, steps: 122\n",
      "Episode 35: reward: 114.000, steps: 114\n",
      "Episode 36: reward: 200.000, steps: 200\n",
      "Episode 37: reward: 118.000, steps: 118\n",
      "Episode 38: reward: 180.000, steps: 180\n",
      "Episode 39: reward: 117.000, steps: 117\n",
      "Episode 40: reward: 200.000, steps: 200\n",
      "Episode 41: reward: 119.000, steps: 119\n",
      "Episode 42: reward: 186.000, steps: 186\n",
      "Episode 43: reward: 188.000, steps: 188\n",
      "Episode 44: reward: 114.000, steps: 114\n",
      "Episode 45: reward: 200.000, steps: 200\n",
      "Episode 46: reward: 200.000, steps: 200\n",
      "Episode 47: reward: 150.000, steps: 150\n",
      "Episode 48: reward: 147.000, steps: 147\n",
      "Episode 49: reward: 200.000, steps: 200\n",
      "Episode 50: reward: 118.000, steps: 118\n",
      "Episode 51: reward: 122.000, steps: 122\n",
      "Episode 52: reward: 114.000, steps: 114\n",
      "Episode 53: reward: 108.000, steps: 108\n",
      "Episode 54: reward: 122.000, steps: 122\n",
      "Episode 55: reward: 189.000, steps: 189\n",
      "Episode 56: reward: 160.000, steps: 160\n",
      "Episode 57: reward: 122.000, steps: 122\n",
      "Episode 58: reward: 184.000, steps: 184\n",
      "Episode 59: reward: 150.000, steps: 150\n",
      "Episode 60: reward: 124.000, steps: 124\n",
      "Episode 61: reward: 190.000, steps: 190\n",
      "Episode 62: reward: 131.000, steps: 131\n",
      "Episode 63: reward: 117.000, steps: 117\n",
      "Episode 64: reward: 130.000, steps: 130\n",
      "Episode 65: reward: 155.000, steps: 155\n",
      "Episode 66: reward: 159.000, steps: 159\n",
      "Episode 67: reward: 152.000, steps: 152\n",
      "Episode 68: reward: 115.000, steps: 115\n",
      "Episode 69: reward: 128.000, steps: 128\n",
      "Episode 70: reward: 109.000, steps: 109\n",
      "Episode 71: reward: 124.000, steps: 124\n",
      "Episode 72: reward: 106.000, steps: 106\n",
      "Episode 73: reward: 133.000, steps: 133\n",
      "Episode 74: reward: 146.000, steps: 146\n",
      "Episode 75: reward: 149.000, steps: 149\n",
      "Episode 76: reward: 148.000, steps: 148\n",
      "Episode 77: reward: 119.000, steps: 119\n",
      "Episode 78: reward: 131.000, steps: 131\n",
      "Episode 79: reward: 127.000, steps: 127\n",
      "Episode 80: reward: 200.000, steps: 200\n",
      "Episode 81: reward: 134.000, steps: 134\n",
      "Episode 82: reward: 147.000, steps: 147\n",
      "Episode 83: reward: 132.000, steps: 132\n",
      "Episode 84: reward: 200.000, steps: 200\n",
      "Episode 85: reward: 147.000, steps: 147\n",
      "Episode 86: reward: 150.000, steps: 150\n",
      "Episode 87: reward: 200.000, steps: 200\n",
      "Episode 88: reward: 105.000, steps: 105\n",
      "Episode 89: reward: 136.000, steps: 136\n",
      "Episode 90: reward: 198.000, steps: 198\n",
      "Episode 91: reward: 122.000, steps: 122\n",
      "Episode 92: reward: 174.000, steps: 174\n",
      "Episode 93: reward: 120.000, steps: 120\n",
      "Episode 94: reward: 121.000, steps: 121\n",
      "Episode 95: reward: 200.000, steps: 200\n",
      "Episode 96: reward: 122.000, steps: 122\n",
      "Episode 97: reward: 108.000, steps: 108\n",
      "Episode 98: reward: 99.000, steps: 99\n",
      "Episode 99: reward: 113.000, steps: 113\n",
      "Episode 100: reward: 123.000, steps: 123\n",
      "143.66\n"
     ]
    }
   ],
   "source": [
    "scores = dqn.test(env, nb_episodes=100, visualize=False)\n",
    "print(np.mean(scores.history['episode_reward']))"
   ]
  },
  {
   "cell_type": "code",
   "execution_count": 37,
   "id": "f1993f39",
   "metadata": {},
   "outputs": [
    {
     "name": "stdout",
     "output_type": "stream",
     "text": [
      "Testing for 15 episodes ...\n",
      "Episode 1: reward: 110.000, steps: 110\n",
      "Episode 2: reward: 139.000, steps: 139\n",
      "Episode 3: reward: 134.000, steps: 134\n",
      "Episode 4: reward: 115.000, steps: 115\n",
      "Episode 5: reward: 200.000, steps: 200\n",
      "Episode 6: reward: 156.000, steps: 156\n",
      "Episode 7: reward: 200.000, steps: 200\n",
      "Episode 8: reward: 177.000, steps: 177\n",
      "Episode 9: reward: 132.000, steps: 132\n",
      "Episode 10: reward: 132.000, steps: 132\n",
      "Episode 11: reward: 106.000, steps: 106\n",
      "Episode 12: reward: 124.000, steps: 124\n",
      "Episode 13: reward: 200.000, steps: 200\n",
      "Episode 14: reward: 110.000, steps: 110\n",
      "Episode 15: reward: 200.000, steps: 200\n"
     ]
    }
   ],
   "source": [
    "_ = dqn.test(env, nb_episodes=15, visualize=True)"
   ]
  },
  {
   "cell_type": "markdown",
   "id": "e7b8f25a",
   "metadata": {},
   "source": [
    "# **Reloading Agent from Memory (Saving Weights)**"
   ]
  },
  {
   "cell_type": "code",
   "execution_count": 38,
   "id": "b6794cf2",
   "metadata": {},
   "outputs": [],
   "source": [
    "dqn.save_weights('dqn_weights.h5f', overwrite=True)"
   ]
  },
  {
   "cell_type": "code",
   "execution_count": 39,
   "id": "df112370",
   "metadata": {},
   "outputs": [],
   "source": [
    "del model\n",
    "del dqn\n",
    "del env"
   ]
  },
  {
   "cell_type": "code",
   "execution_count": 40,
   "id": "a6763b9d",
   "metadata": {},
   "outputs": [],
   "source": [
    "env = gym.make('CartPole-v0')\n",
    "actions = env.action_space.n\n",
    "states = env.observation_space.shape[0]\n",
    "model = build_model(states, actions)\n",
    "dqn = build_agent(model, actions)\n",
    "dqn.compile(Adam(lr=1e-3), metrics=['mae'])"
   ]
  },
  {
   "cell_type": "code",
   "execution_count": 41,
   "id": "90c0e816",
   "metadata": {},
   "outputs": [],
   "source": [
    "dqn.load_weights('dqn_weights.h5f')"
   ]
  },
  {
   "cell_type": "code",
   "execution_count": 42,
   "id": "63ea0764",
   "metadata": {},
   "outputs": [
    {
     "name": "stdout",
     "output_type": "stream",
     "text": [
      "Testing for 15 episodes ...\n",
      "Episode 1: reward: 121.000, steps: 121\n",
      "Episode 2: reward: 174.000, steps: 174\n",
      "Episode 3: reward: 145.000, steps: 145\n",
      "Episode 4: reward: 142.000, steps: 142\n",
      "Episode 5: reward: 135.000, steps: 135\n",
      "Episode 6: reward: 152.000, steps: 152\n",
      "Episode 7: reward: 142.000, steps: 142\n",
      "Episode 8: reward: 190.000, steps: 190\n",
      "Episode 9: reward: 143.000, steps: 143\n",
      "Episode 10: reward: 194.000, steps: 194\n",
      "Episode 11: reward: 161.000, steps: 161\n",
      "Episode 12: reward: 200.000, steps: 200\n",
      "Episode 13: reward: 153.000, steps: 153\n",
      "Episode 14: reward: 110.000, steps: 110\n",
      "Episode 15: reward: 194.000, steps: 194\n"
     ]
    }
   ],
   "source": [
    "_ = dqn.test(env, nb_episodes=15, visualize=True)"
   ]
  }
 ],
 "metadata": {
  "kernelspec": {
   "display_name": "Python 3 (ipykernel)",
   "language": "python",
   "name": "python3"
  },
  "language_info": {
   "codemirror_mode": {
    "name": "ipython",
    "version": 3
   },
   "file_extension": ".py",
   "mimetype": "text/x-python",
   "name": "python",
   "nbconvert_exporter": "python",
   "pygments_lexer": "ipython3",
   "version": "3.8.10"
  }
 },
 "nbformat": 4,
 "nbformat_minor": 5
}
