{
 "cells": [
  {
   "cell_type": "code",
   "execution_count": 51,
   "id": "57cbcff0",
   "metadata": {},
   "outputs": [],
   "source": [
    "import pandas as pd\n",
    "import numpy as np\n",
    "import matplotlib.pyplot as plt\n",
    "%matplotlib inline"
   ]
  },
  {
   "cell_type": "code",
   "execution_count": 52,
   "id": "52208b8e",
   "metadata": {},
   "outputs": [],
   "source": [
    "from mpl_toolkits import mplot3d\n",
    "%matplotlib inline\n",
    "import numpy as np\n",
    "import matplotlib.pyplot as plt"
   ]
  },
  {
   "cell_type": "code",
   "execution_count": 53,
   "id": "fa542ebb",
   "metadata": {},
   "outputs": [],
   "source": [
    "data = pd.read_csv('Amostras.csv')"
   ]
  },
  {
   "cell_type": "code",
   "execution_count": 54,
   "id": "aaebf1ab",
   "metadata": {},
   "outputs": [
    {
     "data": {
      "text/plain": [
       "Index(['Amostra', 'x1', 'x2', 'x3'], dtype='object')"
      ]
     },
     "execution_count": 54,
     "metadata": {},
     "output_type": "execute_result"
    }
   ],
   "source": [
    "data.keys()"
   ]
  },
  {
   "cell_type": "code",
   "execution_count": 55,
   "id": "d20b9f63",
   "metadata": {},
   "outputs": [
    {
     "data": {
      "text/html": [
       "<div>\n",
       "<style scoped>\n",
       "    .dataframe tbody tr th:only-of-type {\n",
       "        vertical-align: middle;\n",
       "    }\n",
       "\n",
       "    .dataframe tbody tr th {\n",
       "        vertical-align: top;\n",
       "    }\n",
       "\n",
       "    .dataframe thead th {\n",
       "        text-align: right;\n",
       "    }\n",
       "</style>\n",
       "<table border=\"1\" class=\"dataframe\">\n",
       "  <thead>\n",
       "    <tr style=\"text-align: right;\">\n",
       "      <th></th>\n",
       "      <th>Amostra</th>\n",
       "      <th>x1</th>\n",
       "      <th>x2</th>\n",
       "      <th>x3</th>\n",
       "    </tr>\n",
       "  </thead>\n",
       "  <tbody>\n",
       "    <tr>\n",
       "      <th>0</th>\n",
       "      <td>1</td>\n",
       "      <td>-7.82</td>\n",
       "      <td>-4.58</td>\n",
       "      <td>-3.97</td>\n",
       "    </tr>\n",
       "    <tr>\n",
       "      <th>1</th>\n",
       "      <td>2</td>\n",
       "      <td>-6.68</td>\n",
       "      <td>3.16</td>\n",
       "      <td>2.71</td>\n",
       "    </tr>\n",
       "    <tr>\n",
       "      <th>2</th>\n",
       "      <td>3</td>\n",
       "      <td>4.36</td>\n",
       "      <td>-2.19</td>\n",
       "      <td>2.09</td>\n",
       "    </tr>\n",
       "    <tr>\n",
       "      <th>3</th>\n",
       "      <td>4</td>\n",
       "      <td>6.72</td>\n",
       "      <td>0.88</td>\n",
       "      <td>2.80</td>\n",
       "    </tr>\n",
       "    <tr>\n",
       "      <th>4</th>\n",
       "      <td>5</td>\n",
       "      <td>-8.64</td>\n",
       "      <td>3.06</td>\n",
       "      <td>3.50</td>\n",
       "    </tr>\n",
       "    <tr>\n",
       "      <th>5</th>\n",
       "      <td>6</td>\n",
       "      <td>-6.87</td>\n",
       "      <td>0.57</td>\n",
       "      <td>-5.45</td>\n",
       "    </tr>\n",
       "    <tr>\n",
       "      <th>6</th>\n",
       "      <td>7</td>\n",
       "      <td>4.47</td>\n",
       "      <td>-2.62</td>\n",
       "      <td>5.76</td>\n",
       "    </tr>\n",
       "    <tr>\n",
       "      <th>7</th>\n",
       "      <td>8</td>\n",
       "      <td>6.73</td>\n",
       "      <td>-2.01</td>\n",
       "      <td>4.18</td>\n",
       "    </tr>\n",
       "    <tr>\n",
       "      <th>8</th>\n",
       "      <td>9</td>\n",
       "      <td>-7.71</td>\n",
       "      <td>2.34</td>\n",
       "      <td>-6.33</td>\n",
       "    </tr>\n",
       "    <tr>\n",
       "      <th>9</th>\n",
       "      <td>10</td>\n",
       "      <td>-6.91</td>\n",
       "      <td>-0.49</td>\n",
       "      <td>-5.68</td>\n",
       "    </tr>\n",
       "    <tr>\n",
       "      <th>10</th>\n",
       "      <td>11</td>\n",
       "      <td>6.18</td>\n",
       "      <td>2.81</td>\n",
       "      <td>5.82</td>\n",
       "    </tr>\n",
       "    <tr>\n",
       "      <th>11</th>\n",
       "      <td>12</td>\n",
       "      <td>6.72</td>\n",
       "      <td>-0.93</td>\n",
       "      <td>-4.04</td>\n",
       "    </tr>\n",
       "    <tr>\n",
       "      <th>12</th>\n",
       "      <td>13</td>\n",
       "      <td>-6.25</td>\n",
       "      <td>-0.26</td>\n",
       "      <td>0.56</td>\n",
       "    </tr>\n",
       "    <tr>\n",
       "      <th>13</th>\n",
       "      <td>14</td>\n",
       "      <td>-6.94</td>\n",
       "      <td>-1.22</td>\n",
       "      <td>1.13</td>\n",
       "    </tr>\n",
       "    <tr>\n",
       "      <th>14</th>\n",
       "      <td>15</td>\n",
       "      <td>8.09</td>\n",
       "      <td>0.20</td>\n",
       "      <td>2.25</td>\n",
       "    </tr>\n",
       "    <tr>\n",
       "      <th>15</th>\n",
       "      <td>16</td>\n",
       "      <td>6.81</td>\n",
       "      <td>0.17</td>\n",
       "      <td>-4.15</td>\n",
       "    </tr>\n",
       "    <tr>\n",
       "      <th>16</th>\n",
       "      <td>17</td>\n",
       "      <td>-5.19</td>\n",
       "      <td>4.24</td>\n",
       "      <td>4.04</td>\n",
       "    </tr>\n",
       "    <tr>\n",
       "      <th>17</th>\n",
       "      <td>18</td>\n",
       "      <td>-6.38</td>\n",
       "      <td>-1.74</td>\n",
       "      <td>1.43</td>\n",
       "    </tr>\n",
       "    <tr>\n",
       "      <th>18</th>\n",
       "      <td>19</td>\n",
       "      <td>4.08</td>\n",
       "      <td>1.30</td>\n",
       "      <td>5.33</td>\n",
       "    </tr>\n",
       "    <tr>\n",
       "      <th>19</th>\n",
       "      <td>20</td>\n",
       "      <td>6.27</td>\n",
       "      <td>0.93</td>\n",
       "      <td>-2.78</td>\n",
       "    </tr>\n",
       "  </tbody>\n",
       "</table>\n",
       "</div>"
      ],
      "text/plain": [
       "    Amostra    x1    x2    x3\n",
       "0         1 -7.82 -4.58 -3.97\n",
       "1         2 -6.68  3.16  2.71\n",
       "2         3  4.36 -2.19  2.09\n",
       "3         4  6.72  0.88  2.80\n",
       "4         5 -8.64  3.06  3.50\n",
       "5         6 -6.87  0.57 -5.45\n",
       "6         7  4.47 -2.62  5.76\n",
       "7         8  6.73 -2.01  4.18\n",
       "8         9 -7.71  2.34 -6.33\n",
       "9        10 -6.91 -0.49 -5.68\n",
       "10       11  6.18  2.81  5.82\n",
       "11       12  6.72 -0.93 -4.04\n",
       "12       13 -6.25 -0.26  0.56\n",
       "13       14 -6.94 -1.22  1.13\n",
       "14       15  8.09  0.20  2.25\n",
       "15       16  6.81  0.17 -4.15\n",
       "16       17 -5.19  4.24  4.04\n",
       "17       18 -6.38 -1.74  1.43\n",
       "18       19  4.08  1.30  5.33\n",
       "19       20  6.27  0.93 -2.78"
      ]
     },
     "execution_count": 55,
     "metadata": {},
     "output_type": "execute_result"
    }
   ],
   "source": [
    "data"
   ]
  },
  {
   "cell_type": "code",
   "execution_count": 56,
   "id": "bf20d67c",
   "metadata": {},
   "outputs": [
    {
     "name": "stdout",
     "output_type": "stream",
     "text": [
      "[[-7.82 -4.58 -3.97]\n",
      " [-6.68  3.16  2.71]\n",
      " [ 4.36 -2.19  2.09]\n",
      " [ 6.72  0.88  2.8 ]\n",
      " [-8.64  3.06  3.5 ]\n",
      " [-6.87  0.57 -5.45]\n",
      " [ 4.47 -2.62  5.76]\n",
      " [ 6.73 -2.01  4.18]\n",
      " [-7.71  2.34 -6.33]\n",
      " [-6.91 -0.49 -5.68]\n",
      " [ 6.18  2.81  5.82]\n",
      " [ 6.72 -0.93 -4.04]\n",
      " [-6.25 -0.26  0.56]\n",
      " [-6.94 -1.22  1.13]\n",
      " [ 8.09  0.2   2.25]\n",
      " [ 6.81  0.17 -4.15]\n",
      " [-5.19  4.24  4.04]\n",
      " [-6.38 -1.74  1.43]\n",
      " [ 4.08  1.3   5.33]\n",
      " [ 6.27  0.93 -2.78]]\n"
     ]
    }
   ],
   "source": [
    "data1 = data.iloc[:,1:].values \n",
    "print(data1)"
   ]
  },
  {
   "cell_type": "code",
   "execution_count": 57,
   "id": "f9d5dc2d",
   "metadata": {},
   "outputs": [
    {
     "data": {
      "image/png": "[encoded data removed]",
      "text/plain": [
       "<Figure size 288x288 with 1 Axes>"
      ]
     },
     "metadata": {
      "needs_background": "light"
     },
     "output_type": "display_data"
    }
   ],
   "source": [
    "fig = plt.figure(figsize=(4,4))\n",
    "ax = fig.add_subplot(111, projection='3d')\n",
    "ax.scatter(data1[:,0],data1[:,1],data1[:,2],color='k') \n",
    "plt.show()"
   ]
  },
  {
   "cell_type": "markdown",
   "id": "e52c24ea",
   "metadata": {},
   "source": [
    "# **Clustering**"
   ]
  },
  {
   "cell_type": "markdown",
   "id": "e557daac",
   "metadata": {},
   "source": [
    "## (a) **Considere que existam três clusters e a inicialização dos centros seja aleatória**"
   ]
  },
  {
   "cell_type": "code",
   "execution_count": 64,
   "id": "6ae9a52c",
   "metadata": {},
   "outputs": [
    {
     "name": "stdout",
     "output_type": "stream",
     "text": [
      "Número de interações =  2\n"
     ]
    }
   ],
   "source": [
    "# Treino\n",
    "\n",
    "from sklearn.cluster import KMeans\n",
    "\n",
    "kmeans = KMeans(n_clusters=3, random_state=0)\n",
    "kmeans.fit(data1)\n",
    "\n",
    "print(\"Número de interações = \",kmeans.n_iter_)"
   ]
  },
  {
   "cell_type": "code",
   "execution_count": 65,
   "id": "02a03818",
   "metadata": {},
   "outputs": [
    {
     "data": {
      "text/plain": [
       "array([[ 6.043     , -0.146     ,  1.726     ],\n",
       "       [-7.3275    , -0.54      , -5.3575    ],\n",
       "       [-6.68      ,  1.20666667,  2.22833333]])"
      ]
     },
     "execution_count": 65,
     "metadata": {},
     "output_type": "execute_result"
    }
   ],
   "source": [
    "kmeans.cluster_centers_"
   ]
  },
  {
   "cell_type": "code",
   "execution_count": 66,
   "id": "5b6870b5",
   "metadata": {},
   "outputs": [
    {
     "data": {
      "text/plain": [
       "array([[15.6297006 ,  4.29992006,  8.55595975],\n",
       "       [13.18228436,  8.89909054,  2.01184341],\n",
       "       [ 2.67262437, 13.95655446, 11.55154018],\n",
       "       [ 1.6323238 , 16.30623999, 13.41616614],\n",
       "       [15.13327463,  9.65080113,  2.98221068],\n",
       "       [14.79030767,  1.20414389,  7.70702584],\n",
       "       [ 4.98679867, 16.34338436, 12.30603702],\n",
       "       [ 3.15730597, 17.05104432, 13.92781559],\n",
       "       [16.13147052,  3.06373343,  8.69427478],\n",
       "       [14.92472382,  0.52991745,  8.09155819],\n",
       "       [ 5.05148899, 17.84969362, 13.4480611 ],\n",
       "       [ 5.8583053 , 14.11453728, 14.94715181],\n",
       "       [12.34870038,  6.02131319,  2.26259745],\n",
       "       [13.04097316,  6.53453996,  2.67631224],\n",
       "       [ 2.14114479, 17.20816558, 14.80428138],\n",
       "       [ 5.93426668, 14.20672596, 14.9578713 ],\n",
       "       [12.27892019, 10.7578024 ,  3.83449439],\n",
       "       [12.52834311,  6.9575795 ,  3.06760176],\n",
       "       [ 4.35121834, 15.73973674, 11.19851094],\n",
       "       [ 4.63824762, 13.91748585, 13.88749247]])"
      ]
     },
     "execution_count": 66,
     "metadata": {},
     "output_type": "execute_result"
    }
   ],
   "source": [
    "distance = kmeans.fit_transform(data1)\n",
    "distance"
   ]
  },
  {
   "cell_type": "code",
   "execution_count": 67,
   "id": "07be187d",
   "metadata": {},
   "outputs": [
    {
     "name": "stdout",
     "output_type": "stream",
     "text": [
      "[1 2 0 0 2 1 0 0 1 1 0 0 2 2 0 0 2 2 0 0]\n"
     ]
    }
   ],
   "source": [
    "# Teste\n",
    "\n",
    "y_kmeans = kmeans.predict(data1)\n",
    "print(y_kmeans)"
   ]
  },
  {
   "cell_type": "code",
   "execution_count": 68,
   "id": "92fdc78c",
   "metadata": {},
   "outputs": [
    {
     "name": "stderr",
     "output_type": "stream",
     "text": [
      "/tmp/ipykernel_6034/4285397430.py:4: DeprecationWarning: `np.float` is a deprecated alias for the builtin `float`. To silence this warning, use `float` by itself. Doing this will not modify any behavior and is safe. If you specifically wanted the numpy scalar type, use `np.float64` here.\n",
      "Deprecated in NumPy 1.20; for more details and guidance: https://numpy.org/devdocs/release/1.20.0-notes.html#deprecations\n",
      "  ax.scatter(data['x1'],data['x2'],data['x3'],c=y_kmeans.astype(np.float))\n"
     ]
    },
    {
     "data": {
      "image/png": "[encoded data removed]",
      "text/plain": [
       "<Figure size 288x288 with 1 Axes>"
      ]
     },
     "metadata": {
      "needs_background": "light"
     },
     "output_type": "display_data"
    }
   ],
   "source": [
    "colormap = {1: 'r', 2: 'g', 3: 'b'}\n",
    "fig = plt.figure(figsize=(4,4))\n",
    "ax = fig.add_subplot(111, projection='3d')\n",
    "ax.scatter(data['x1'],data['x2'],data['x3'],\n",
    "           c=y_kmeans.astype(np.float)) \n",
    "plt.show()"
   ]
  },
  {
   "cell_type": "markdown",
   "id": "45a5064e",
   "metadata": {},
   "source": [
    "## (b) **Considere que existam três clusters e a inicialização dos centros seja dada por m1 =(0,0,0) t , m 2 =(1,1,1) t , m 3 =(-1,0,2) t.**"
   ]
  },
  {
   "cell_type": "code",
   "execution_count": 41,
   "id": "ccf40800",
   "metadata": {},
   "outputs": [
    {
     "name": "stdout",
     "output_type": "stream",
     "text": [
      "Número de interações =  2\n"
     ]
    }
   ],
   "source": [
    "# Treino\n",
    "\n",
    "from sklearn.cluster import KMeans\n",
    "\n",
    "X = np.array([[0,0,0],\n",
    "              [1,1,1],\n",
    "              [-1,0,2]], np.float64)\n",
    "\n",
    "kmeans = KMeans(n_clusters=3, init=X, n_init=1).fit(data1)\n",
    "\n",
    "print(\"Número de interações = \",kmeans.n_iter_)"
   ]
  },
  {
   "cell_type": "code",
   "execution_count": 42,
   "id": "0e2fbe39",
   "metadata": {},
   "outputs": [
    {
     "data": {
      "text/plain": [
       "array([[-7.3275    , -0.54      , -5.3575    ],\n",
       "       [ 6.043     , -0.146     ,  1.726     ],\n",
       "       [-6.68      ,  1.20666667,  2.22833333]])"
      ]
     },
     "execution_count": 42,
     "metadata": {},
     "output_type": "execute_result"
    }
   ],
   "source": [
    "kmeans.cluster_centers_"
   ]
  },
  {
   "cell_type": "code",
   "execution_count": 43,
   "id": "7856e28d",
   "metadata": {},
   "outputs": [
    {
     "data": {
      "text/plain": [
       "array([[ 4.29992006, 15.6297006 ,  8.55595975],\n",
       "       [ 8.89909054, 13.18228436,  2.01184341],\n",
       "       [13.95655446,  2.67262437, 11.55154018],\n",
       "       [16.30623999,  1.6323238 , 13.41616614],\n",
       "       [ 9.65080113, 15.13327463,  2.98221068],\n",
       "       [ 1.20414389, 14.79030767,  7.70702584],\n",
       "       [16.34338436,  4.98679867, 12.30603702],\n",
       "       [17.05104432,  3.15730597, 13.92781559],\n",
       "       [ 3.06373343, 16.13147052,  8.69427478],\n",
       "       [ 0.52991745, 14.92472382,  8.09155819],\n",
       "       [17.84969362,  5.05148899, 13.4480611 ],\n",
       "       [14.11453728,  5.8583053 , 14.94715181],\n",
       "       [ 6.02131319, 12.34870038,  2.26259745],\n",
       "       [ 6.53453996, 13.04097316,  2.67631224],\n",
       "       [17.20816558,  2.14114479, 14.80428138],\n",
       "       [14.20672596,  5.93426668, 14.9578713 ],\n",
       "       [10.7578024 , 12.27892019,  3.83449439],\n",
       "       [ 6.9575795 , 12.52834311,  3.06760176],\n",
       "       [15.73973674,  4.35121834, 11.19851094],\n",
       "       [13.91748585,  4.63824762, 13.88749247]])"
      ]
     },
     "execution_count": 43,
     "metadata": {},
     "output_type": "execute_result"
    }
   ],
   "source": [
    "distance = kmeans.fit_transform(data1)\n",
    "distance"
   ]
  },
  {
   "cell_type": "code",
   "execution_count": 44,
   "id": "3694a37d",
   "metadata": {},
   "outputs": [
    {
     "name": "stdout",
     "output_type": "stream",
     "text": [
      "[0 2 1 1 2 0 1 1 0 0 1 1 2 2 1 1 2 2 1 1]\n"
     ]
    }
   ],
   "source": [
    "# Teste\n",
    "\n",
    "y_kmeans = kmeans.predict(data1)\n",
    "print(y_kmeans)"
   ]
  },
  {
   "cell_type": "code",
   "execution_count": 45,
   "id": "c2506fe0",
   "metadata": {},
   "outputs": [
    {
     "name": "stderr",
     "output_type": "stream",
     "text": [
      "/tmp/ipykernel_6034/4285397430.py:4: DeprecationWarning: `np.float` is a deprecated alias for the builtin `float`. To silence this warning, use `float` by itself. Doing this will not modify any behavior and is safe. If you specifically wanted the numpy scalar type, use `np.float64` here.\n",
      "Deprecated in NumPy 1.20; for more details and guidance: https://numpy.org/devdocs/release/1.20.0-notes.html#deprecations\n",
      "  ax.scatter(data['x1'],data['x2'],data['x3'],c=y_kmeans.astype(np.float))\n"
     ]
    },
    {
     "data": {
      "image/png": "[encoded data removed]",
      "text/plain": [
       "<Figure size 288x288 with 1 Axes>"
      ]
     },
     "metadata": {
      "needs_background": "light"
     },
     "output_type": "display_data"
    }
   ],
   "source": [
    "colormap = {1: 'r', 2: 'g', 3: 'b'}\n",
    "fig = plt.figure(figsize=(4,4))\n",
    "ax = fig.add_subplot(111, projection='3d')\n",
    "ax.scatter(data['x1'],data['x2'],data['x3'],\n",
    "           c=y_kmeans.astype(np.float)) \n",
    "plt.show()"
   ]
  },
  {
   "cell_type": "markdown",
   "id": "c32f4f6a",
   "metadata": {},
   "source": [
    "## (c) **Repita o item a considerando que os centros iniciais sejam m 1 =(-0.1,0,0.1) t , m 2 =(0,-0.1,0.1) t , m 3 =(-0.1,-0.1,0.1) t . Compare o resultado obtido com o item (a) e explique a razão da diferenças, incluindo o número de interações para alcançar a convergência.**"
   ]
  },
  {
   "cell_type": "code",
   "execution_count": 69,
   "id": "cec47c72",
   "metadata": {},
   "outputs": [
    {
     "name": "stdout",
     "output_type": "stream",
     "text": [
      "Número de interações =  4\n"
     ]
    }
   ],
   "source": [
    "# Treino\n",
    "\n",
    "from sklearn.cluster import KMeans\n",
    "\n",
    "X = np.array([[-0.1,0,0.1],\n",
    "              [0,-0.1,0.1],\n",
    "              [-0.1,-0.1,0.1]], np.float64)\n",
    "\n",
    "kmeans = KMeans(n_clusters=3, init=X, n_init=1).fit(data1)\n",
    "\n",
    "print(\"Número de interações = \",kmeans.n_iter_)"
   ]
  },
  {
   "cell_type": "code",
   "execution_count": 70,
   "id": "71fd386a",
   "metadata": {},
   "outputs": [
    {
     "data": {
      "text/plain": [
       "array([[-6.83666667,  3.48666667,  3.41666667],\n",
       "       [ 6.043     , -0.146     ,  1.726     ],\n",
       "       [-6.98285714, -0.76857143, -2.61571429]])"
      ]
     },
     "execution_count": 70,
     "metadata": {},
     "output_type": "execute_result"
    }
   ],
   "source": [
    "kmeans.cluster_centers_"
   ]
  },
  {
   "cell_type": "code",
   "execution_count": 71,
   "id": "327dfc31",
   "metadata": {},
   "outputs": [
    {
     "data": {
      "text/plain": [
       "array([[10.98184411, 15.6297006 ,  4.13060355],\n",
       "       [ 0.79412426, 13.18228436,  6.62484932],\n",
       "       [12.62338835,  2.67262437, 12.3622253 ],\n",
       "       [13.81876261,  1.6323238 , 14.82619448],\n",
       "       [ 1.85499326, 15.13327463,  7.40311035],\n",
       "       [ 9.33412199, 14.79030767,  3.13650852],\n",
       "       [13.0622854 ,  4.98679867, 14.30902912],\n",
       "       [14.65777837,  3.15730597, 15.35465169],\n",
       "       [ 9.852668  , 16.13147052,  4.89774146],\n",
       "       [ 9.92817204, 14.92472382,  3.07778445],\n",
       "       [13.25396167,  5.05148899, 16.03833711],\n",
       "       [16.09012223,  5.8583053 , 13.77762472],\n",
       "       [ 4.74786619, 12.34870038,  3.29861876],\n",
       "       [ 5.23375901, 13.04097316,  3.77306242],\n",
       "       [15.3286877 ,  2.14114479, 15.8683436 ],\n",
       "       [15.95262465,  5.93426668, 13.90963181],\n",
       "       [ 1.91508921, 12.27892019,  8.52048456],\n",
       "       [ 5.61011883, 12.52834311,  4.20415441],\n",
       "       [11.29672371,  4.35121834, 13.7767983 ],\n",
       "       [14.72141071,  4.63824762, 13.36227365]])"
      ]
     },
     "execution_count": 71,
     "metadata": {},
     "output_type": "execute_result"
    }
   ],
   "source": [
    "distance = kmeans.fit_transform(data1)\n",
    "distance"
   ]
  },
  {
   "cell_type": "code",
   "execution_count": 72,
   "id": "cdf04337",
   "metadata": {},
   "outputs": [
    {
     "name": "stdout",
     "output_type": "stream",
     "text": [
      "[2 0 1 1 0 2 1 1 2 2 1 1 2 2 1 1 0 2 1 1]\n"
     ]
    }
   ],
   "source": [
    "# Teste\n",
    "\n",
    "y_kmeans = kmeans.predict(data1)\n",
    "print(y_kmeans)"
   ]
  },
  {
   "cell_type": "code",
   "execution_count": 73,
   "id": "fca1b519",
   "metadata": {},
   "outputs": [
    {
     "name": "stderr",
     "output_type": "stream",
     "text": [
      "/tmp/ipykernel_6034/4285397430.py:4: DeprecationWarning: `np.float` is a deprecated alias for the builtin `float`. To silence this warning, use `float` by itself. Doing this will not modify any behavior and is safe. If you specifically wanted the numpy scalar type, use `np.float64` here.\n",
      "Deprecated in NumPy 1.20; for more details and guidance: https://numpy.org/devdocs/release/1.20.0-notes.html#deprecations\n",
      "  ax.scatter(data['x1'],data['x2'],data['x3'],c=y_kmeans.astype(np.float))\n"
     ]
    },
    {
     "data": {
      "image/png": "[encoded data removed]",
      "text/plain": [
       "<Figure size 288x288 with 1 Axes>"
      ]
     },
     "metadata": {
      "needs_background": "light"
     },
     "output_type": "display_data"
    }
   ],
   "source": [
    "colormap = {1: 'r', 2: 'g', 3: 'b'}\n",
    "fig = plt.figure(figsize=(4,4))\n",
    "ax = fig.add_subplot(111, projection='3d')\n",
    "ax.scatter(data['x1'],data['x2'],data['x3'],\n",
    "           c=y_kmeans.astype(np.float)) \n",
    "plt.show()"
   ]
  },
  {
   "cell_type": "code",
   "execution_count": null,
   "id": "a809ff99",
   "metadata": {},
   "outputs": [],
   "source": []
  }
 ],
 "metadata": {
  "kernelspec": {
   "display_name": "Python 3 (ipykernel)",
   "language": "python",
   "name": "python3"
  },
  "language_info": {
   "codemirror_mode": {
    "name": "ipython",
    "version": 3
   },
   "file_extension": ".py",
   "mimetype": "text/x-python",
   "name": "python",
   "nbconvert_exporter": "python",
   "pygments_lexer": "ipython3",
   "version": "3.9.5"
  }
 },
 "nbformat": 4,
 "nbformat_minor": 5
}
