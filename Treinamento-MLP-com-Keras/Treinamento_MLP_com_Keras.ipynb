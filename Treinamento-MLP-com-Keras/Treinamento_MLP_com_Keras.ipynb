{
  "nbformat": 4,
  "nbformat_minor": 0,
  "metadata": {
    "colab": {
      "name": "Treinamento MLP com Keras.ipynb",
      "provenance": []
    },
    "kernelspec": {
      "name": "python3",
      "display_name": "Python 3"
    },
    "language_info": {
      "name": "python"
    }
  },
  "cells": [
    {
      "cell_type": "markdown",
      "metadata": {
        "id": "2qg5CCOQuiDu"
      },
      "source": [
        "#**MLP - Multilayer Perceptron**\n",
        "\n",
        "**Aluno:** Pedro Victor Andrade Alves\n",
        "\n",
        "**Matrícula:** 20190001079\n"
      ]
    },
    {
      "cell_type": "markdown",
      "metadata": {
        "id": "W-QWtwmNBpbt"
      },
      "source": [
        "# **MLP usando dataset do Kaggle**\n",
        "\n",
        "* **Classificação**\n",
        "* **Identificar se um determinado paciente, com doença cardiovascular, morreu ou não** \n",
        "\n",
        "Fonte: [https://www.kaggle.com/andrewmvd/heart-failure-clinical-data](https://www.kaggle.com/andrewmvd/heart-failure-clinical-data)"
      ]
    },
    {
      "cell_type": "markdown",
      "metadata": {
        "id": "dbTlDSVExWcT"
      },
      "source": [
        "## Carregando os Dados"
      ]
    },
    {
      "cell_type": "code",
      "metadata": {
        "colab": {
          "base_uri": "https://localhost:8080/"
        },
        "id": "5deXtnofuea3",
        "outputId": "60454b26-a8e1-436f-aab4-ffc17fb8121a"
      },
      "source": [
        "!pip install kaggle"
      ],
      "execution_count": 21,
      "outputs": [
        {
          "output_type": "stream",
          "text": [
            "Requirement already satisfied: kaggle in /usr/local/lib/python3.7/dist-packages (1.5.12)\n",
            "Requirement already satisfied: urllib3 in /usr/local/lib/python3.7/dist-packages (from kaggle) (1.24.3)\n",
            "Requirement already satisfied: requests in /usr/local/lib/python3.7/dist-packages (from kaggle) (2.23.0)\n",
            "Requirement already satisfied: certifi in /usr/local/lib/python3.7/dist-packages (from kaggle) (2020.12.5)\n",
            "Requirement already satisfied: python-dateutil in /usr/local/lib/python3.7/dist-packages (from kaggle) (2.8.1)\n",
            "Requirement already satisfied: tqdm in /usr/local/lib/python3.7/dist-packages (from kaggle) (4.41.1)\n",
            "Requirement already satisfied: python-slugify in /usr/local/lib/python3.7/dist-packages (from kaggle) (4.0.1)\n",
            "Requirement already satisfied: six>=1.10 in /usr/local/lib/python3.7/dist-packages (from kaggle) (1.15.0)\n",
            "Requirement already satisfied: chardet<4,>=3.0.2 in /usr/local/lib/python3.7/dist-packages (from requests->kaggle) (3.0.4)\n",
            "Requirement already satisfied: idna<3,>=2.5 in /usr/local/lib/python3.7/dist-packages (from requests->kaggle) (2.10)\n",
            "Requirement already satisfied: text-unidecode>=1.3 in /usr/local/lib/python3.7/dist-packages (from python-slugify->kaggle) (1.3)\n"
          ],
          "name": "stdout"
        }
      ]
    },
    {
      "cell_type": "code",
      "metadata": {
        "colab": {
          "resources": {
            "http://localhost:8080/nbextensions/google.colab/files.js": {
              "data": "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",
              "ok": true,
              "headers": [
                [
                  "content-type",
                  "application/javascript"
                ]
              ],
              "status": 200,
              "status_text": ""
            }
          },
          "base_uri": "https://localhost:8080/",
          "height": 90
        },
        "id": "Ud7Uiez_yNEi",
        "outputId": "c3f772b3-1cc9-4a4f-b170-73666d75c757"
      },
      "source": [
        "from google.colab import files\n",
        "files.upload()"
      ],
      "execution_count": 22,
      "outputs": [
        {
          "output_type": "display_data",
          "data": {
            "text/html": [
              "\n",
              "     <input type=\"file\" id=\"files-bae71227-3793-4b0a-b7ae-16ef6b015b3a\" name=\"files[]\" multiple disabled\n",
              "        style=\"border:none\" />\n",
              "     <output id=\"result-bae71227-3793-4b0a-b7ae-16ef6b015b3a\">\n",
              "      Upload widget is only available when the cell has been executed in the\n",
              "      current browser session. Please rerun this cell to enable.\n",
              "      </output>\n",
              "      <script src=\"/nbextensions/google.colab/files.js\"></script> "
            ],
            "text/plain": [
              "<IPython.core.display.HTML object>"
            ]
          },
          "metadata": {
            "tags": []
          }
        },
        {
          "output_type": "stream",
          "text": [
            "Saving kaggle.json to kaggle (1).json\n"
          ],
          "name": "stdout"
        },
        {
          "output_type": "execute_result",
          "data": {
            "text/plain": [
              "{'kaggle.json': b'{\"username\":\"pedrovictor046\",\"key\":\"2e00fbdcda5c072635f4e4e28f301f55\"}'}"
            ]
          },
          "metadata": {
            "tags": []
          },
          "execution_count": 22
        }
      ]
    },
    {
      "cell_type": "code",
      "metadata": {
        "id": "szNxGLZeyT71"
      },
      "source": [
        "!mkdir -p ~/.kaggle\n",
        "!cp kaggle.json ~/.kaggle/\n",
        "!chmod 600 ~/.kaggle/kaggle.json"
      ],
      "execution_count": 23,
      "outputs": []
    },
    {
      "cell_type": "code",
      "metadata": {
        "colab": {
          "base_uri": "https://localhost:8080/"
        },
        "id": "q9vDKPyHyf_y",
        "outputId": "22a4820a-b2d0-47dd-fb1d-ef947a73e010"
      },
      "source": [
        "!kaggle datasets download -d andrewmvd/heart-failure-clinical-data"
      ],
      "execution_count": 24,
      "outputs": [
        {
          "output_type": "stream",
          "text": [
            "heart-failure-clinical-data.zip: Skipping, found more recently modified local copy (use --force to force download)\n"
          ],
          "name": "stdout"
        }
      ]
    },
    {
      "cell_type": "code",
      "metadata": {
        "colab": {
          "base_uri": "https://localhost:8080/"
        },
        "id": "wIcyNTosypzF",
        "outputId": "9760c118-68ed-4106-d5cb-bcb6768f0837"
      },
      "source": [
        "from zipfile import ZipFile\n",
        "file_name = \"heart-failure-clinical-data.zip\"\n",
        "\n",
        "with ZipFile(file_name, 'r') as zip:\n",
        "    zip.extractall()\n",
        "    print('Done')"
      ],
      "execution_count": 25,
      "outputs": [
        {
          "output_type": "stream",
          "text": [
            "Done\n"
          ],
          "name": "stdout"
        }
      ]
    },
    {
      "cell_type": "code",
      "metadata": {
        "colab": {
          "base_uri": "https://localhost:8080/",
          "height": 215
        },
        "id": "6Bpedmz5yzLM",
        "outputId": "e6ccddf7-ce27-49c4-a28c-c2311d1830df"
      },
      "source": [
        "import pandas as pd\n",
        "\n",
        "dataset = pd.read_csv(\"heart_failure_clinical_records_dataset.csv\")\n",
        "dataset.head()"
      ],
      "execution_count": 26,
      "outputs": [
        {
          "output_type": "execute_result",
          "data": {
            "text/html": [
              "<div>\n",
              "<style scoped>\n",
              "    .dataframe tbody tr th:only-of-type {\n",
              "        vertical-align: middle;\n",
              "    }\n",
              "\n",
              "    .dataframe tbody tr th {\n",
              "        vertical-align: top;\n",
              "    }\n",
              "\n",
              "    .dataframe thead th {\n",
              "        text-align: right;\n",
              "    }\n",
              "</style>\n",
              "<table border=\"1\" class=\"dataframe\">\n",
              "  <thead>\n",
              "    <tr style=\"text-align: right;\">\n",
              "      <th></th>\n",
              "      <th>age</th>\n",
              "      <th>anaemia</th>\n",
              "      <th>creatinine_phosphokinase</th>\n",
              "      <th>diabetes</th>\n",
              "      <th>ejection_fraction</th>\n",
              "      <th>high_blood_pressure</th>\n",
              "      <th>platelets</th>\n",
              "      <th>serum_creatinine</th>\n",
              "      <th>serum_sodium</th>\n",
              "      <th>sex</th>\n",
              "      <th>smoking</th>\n",
              "      <th>time</th>\n",
              "      <th>DEATH_EVENT</th>\n",
              "    </tr>\n",
              "  </thead>\n",
              "  <tbody>\n",
              "    <tr>\n",
              "      <th>0</th>\n",
              "      <td>75.0</td>\n",
              "      <td>0</td>\n",
              "      <td>582</td>\n",
              "      <td>0</td>\n",
              "      <td>20</td>\n",
              "      <td>1</td>\n",
              "      <td>265000.00</td>\n",
              "      <td>1.9</td>\n",
              "      <td>130</td>\n",
              "      <td>1</td>\n",
              "      <td>0</td>\n",
              "      <td>4</td>\n",
              "      <td>1</td>\n",
              "    </tr>\n",
              "    <tr>\n",
              "      <th>1</th>\n",
              "      <td>55.0</td>\n",
              "      <td>0</td>\n",
              "      <td>7861</td>\n",
              "      <td>0</td>\n",
              "      <td>38</td>\n",
              "      <td>0</td>\n",
              "      <td>263358.03</td>\n",
              "      <td>1.1</td>\n",
              "      <td>136</td>\n",
              "      <td>1</td>\n",
              "      <td>0</td>\n",
              "      <td>6</td>\n",
              "      <td>1</td>\n",
              "    </tr>\n",
              "    <tr>\n",
              "      <th>2</th>\n",
              "      <td>65.0</td>\n",
              "      <td>0</td>\n",
              "      <td>146</td>\n",
              "      <td>0</td>\n",
              "      <td>20</td>\n",
              "      <td>0</td>\n",
              "      <td>162000.00</td>\n",
              "      <td>1.3</td>\n",
              "      <td>129</td>\n",
              "      <td>1</td>\n",
              "      <td>1</td>\n",
              "      <td>7</td>\n",
              "      <td>1</td>\n",
              "    </tr>\n",
              "    <tr>\n",
              "      <th>3</th>\n",
              "      <td>50.0</td>\n",
              "      <td>1</td>\n",
              "      <td>111</td>\n",
              "      <td>0</td>\n",
              "      <td>20</td>\n",
              "      <td>0</td>\n",
              "      <td>210000.00</td>\n",
              "      <td>1.9</td>\n",
              "      <td>137</td>\n",
              "      <td>1</td>\n",
              "      <td>0</td>\n",
              "      <td>7</td>\n",
              "      <td>1</td>\n",
              "    </tr>\n",
              "    <tr>\n",
              "      <th>4</th>\n",
              "      <td>65.0</td>\n",
              "      <td>1</td>\n",
              "      <td>160</td>\n",
              "      <td>1</td>\n",
              "      <td>20</td>\n",
              "      <td>0</td>\n",
              "      <td>327000.00</td>\n",
              "      <td>2.7</td>\n",
              "      <td>116</td>\n",
              "      <td>0</td>\n",
              "      <td>0</td>\n",
              "      <td>8</td>\n",
              "      <td>1</td>\n",
              "    </tr>\n",
              "  </tbody>\n",
              "</table>\n",
              "</div>"
            ],
            "text/plain": [
              "    age  anaemia  creatinine_phosphokinase  ...  smoking  time  DEATH_EVENT\n",
              "0  75.0        0                       582  ...        0     4            1\n",
              "1  55.0        0                      7861  ...        0     6            1\n",
              "2  65.0        0                       146  ...        1     7            1\n",
              "3  50.0        1                       111  ...        0     7            1\n",
              "4  65.0        1                       160  ...        0     8            1\n",
              "\n",
              "[5 rows x 13 columns]"
            ]
          },
          "metadata": {
            "tags": []
          },
          "execution_count": 26
        }
      ]
    },
    {
      "cell_type": "code",
      "metadata": {
        "colab": {
          "base_uri": "https://localhost:8080/",
          "height": 304
        },
        "id": "GXedL21Dy-L_",
        "outputId": "ed92be33-4951-4ca9-b799-12e473536674"
      },
      "source": [
        "dataset.describe()"
      ],
      "execution_count": 27,
      "outputs": [
        {
          "output_type": "execute_result",
          "data": {
            "text/html": [
              "<div>\n",
              "<style scoped>\n",
              "    .dataframe tbody tr th:only-of-type {\n",
              "        vertical-align: middle;\n",
              "    }\n",
              "\n",
              "    .dataframe tbody tr th {\n",
              "        vertical-align: top;\n",
              "    }\n",
              "\n",
              "    .dataframe thead th {\n",
              "        text-align: right;\n",
              "    }\n",
              "</style>\n",
              "<table border=\"1\" class=\"dataframe\">\n",
              "  <thead>\n",
              "    <tr style=\"text-align: right;\">\n",
              "      <th></th>\n",
              "      <th>age</th>\n",
              "      <th>anaemia</th>\n",
              "      <th>creatinine_phosphokinase</th>\n",
              "      <th>diabetes</th>\n",
              "      <th>ejection_fraction</th>\n",
              "      <th>high_blood_pressure</th>\n",
              "      <th>platelets</th>\n",
              "      <th>serum_creatinine</th>\n",
              "      <th>serum_sodium</th>\n",
              "      <th>sex</th>\n",
              "      <th>smoking</th>\n",
              "      <th>time</th>\n",
              "      <th>DEATH_EVENT</th>\n",
              "    </tr>\n",
              "  </thead>\n",
              "  <tbody>\n",
              "    <tr>\n",
              "      <th>count</th>\n",
              "      <td>299.000000</td>\n",
              "      <td>299.000000</td>\n",
              "      <td>299.000000</td>\n",
              "      <td>299.000000</td>\n",
              "      <td>299.000000</td>\n",
              "      <td>299.000000</td>\n",
              "      <td>299.000000</td>\n",
              "      <td>299.00000</td>\n",
              "      <td>299.000000</td>\n",
              "      <td>299.000000</td>\n",
              "      <td>299.00000</td>\n",
              "      <td>299.000000</td>\n",
              "      <td>299.00000</td>\n",
              "    </tr>\n",
              "    <tr>\n",
              "      <th>mean</th>\n",
              "      <td>60.833893</td>\n",
              "      <td>0.431438</td>\n",
              "      <td>581.839465</td>\n",
              "      <td>0.418060</td>\n",
              "      <td>38.083612</td>\n",
              "      <td>0.351171</td>\n",
              "      <td>263358.029264</td>\n",
              "      <td>1.39388</td>\n",
              "      <td>136.625418</td>\n",
              "      <td>0.648829</td>\n",
              "      <td>0.32107</td>\n",
              "      <td>130.260870</td>\n",
              "      <td>0.32107</td>\n",
              "    </tr>\n",
              "    <tr>\n",
              "      <th>std</th>\n",
              "      <td>11.894809</td>\n",
              "      <td>0.496107</td>\n",
              "      <td>970.287881</td>\n",
              "      <td>0.494067</td>\n",
              "      <td>11.834841</td>\n",
              "      <td>0.478136</td>\n",
              "      <td>97804.236869</td>\n",
              "      <td>1.03451</td>\n",
              "      <td>4.412477</td>\n",
              "      <td>0.478136</td>\n",
              "      <td>0.46767</td>\n",
              "      <td>77.614208</td>\n",
              "      <td>0.46767</td>\n",
              "    </tr>\n",
              "    <tr>\n",
              "      <th>min</th>\n",
              "      <td>40.000000</td>\n",
              "      <td>0.000000</td>\n",
              "      <td>23.000000</td>\n",
              "      <td>0.000000</td>\n",
              "      <td>14.000000</td>\n",
              "      <td>0.000000</td>\n",
              "      <td>25100.000000</td>\n",
              "      <td>0.50000</td>\n",
              "      <td>113.000000</td>\n",
              "      <td>0.000000</td>\n",
              "      <td>0.00000</td>\n",
              "      <td>4.000000</td>\n",
              "      <td>0.00000</td>\n",
              "    </tr>\n",
              "    <tr>\n",
              "      <th>25%</th>\n",
              "      <td>51.000000</td>\n",
              "      <td>0.000000</td>\n",
              "      <td>116.500000</td>\n",
              "      <td>0.000000</td>\n",
              "      <td>30.000000</td>\n",
              "      <td>0.000000</td>\n",
              "      <td>212500.000000</td>\n",
              "      <td>0.90000</td>\n",
              "      <td>134.000000</td>\n",
              "      <td>0.000000</td>\n",
              "      <td>0.00000</td>\n",
              "      <td>73.000000</td>\n",
              "      <td>0.00000</td>\n",
              "    </tr>\n",
              "    <tr>\n",
              "      <th>50%</th>\n",
              "      <td>60.000000</td>\n",
              "      <td>0.000000</td>\n",
              "      <td>250.000000</td>\n",
              "      <td>0.000000</td>\n",
              "      <td>38.000000</td>\n",
              "      <td>0.000000</td>\n",
              "      <td>262000.000000</td>\n",
              "      <td>1.10000</td>\n",
              "      <td>137.000000</td>\n",
              "      <td>1.000000</td>\n",
              "      <td>0.00000</td>\n",
              "      <td>115.000000</td>\n",
              "      <td>0.00000</td>\n",
              "    </tr>\n",
              "    <tr>\n",
              "      <th>75%</th>\n",
              "      <td>70.000000</td>\n",
              "      <td>1.000000</td>\n",
              "      <td>582.000000</td>\n",
              "      <td>1.000000</td>\n",
              "      <td>45.000000</td>\n",
              "      <td>1.000000</td>\n",
              "      <td>303500.000000</td>\n",
              "      <td>1.40000</td>\n",
              "      <td>140.000000</td>\n",
              "      <td>1.000000</td>\n",
              "      <td>1.00000</td>\n",
              "      <td>203.000000</td>\n",
              "      <td>1.00000</td>\n",
              "    </tr>\n",
              "    <tr>\n",
              "      <th>max</th>\n",
              "      <td>95.000000</td>\n",
              "      <td>1.000000</td>\n",
              "      <td>7861.000000</td>\n",
              "      <td>1.000000</td>\n",
              "      <td>80.000000</td>\n",
              "      <td>1.000000</td>\n",
              "      <td>850000.000000</td>\n",
              "      <td>9.40000</td>\n",
              "      <td>148.000000</td>\n",
              "      <td>1.000000</td>\n",
              "      <td>1.00000</td>\n",
              "      <td>285.000000</td>\n",
              "      <td>1.00000</td>\n",
              "    </tr>\n",
              "  </tbody>\n",
              "</table>\n",
              "</div>"
            ],
            "text/plain": [
              "              age     anaemia  ...        time  DEATH_EVENT\n",
              "count  299.000000  299.000000  ...  299.000000    299.00000\n",
              "mean    60.833893    0.431438  ...  130.260870      0.32107\n",
              "std     11.894809    0.496107  ...   77.614208      0.46767\n",
              "min     40.000000    0.000000  ...    4.000000      0.00000\n",
              "25%     51.000000    0.000000  ...   73.000000      0.00000\n",
              "50%     60.000000    0.000000  ...  115.000000      0.00000\n",
              "75%     70.000000    1.000000  ...  203.000000      1.00000\n",
              "max     95.000000    1.000000  ...  285.000000      1.00000\n",
              "\n",
              "[8 rows x 13 columns]"
            ]
          },
          "metadata": {
            "tags": []
          },
          "execution_count": 27
        }
      ]
    },
    {
      "cell_type": "markdown",
      "metadata": {
        "id": "iNzfDcUozFAG"
      },
      "source": [
        "## Escolhendo atributos \n",
        "* Diabetes e pressão alta"
      ]
    },
    {
      "cell_type": "code",
      "metadata": {
        "colab": {
          "base_uri": "https://localhost:8080/"
        },
        "id": "5eftqa2Bze44",
        "outputId": "ec175a05-b13b-40d4-de06-d1d9e71da24c"
      },
      "source": [
        "X = dataset.loc[:,['age','high_blood_pressure']].values\n",
        "y = dataset['DEATH_EVENT'].values\n",
        "\n",
        "print(X[0:6,:])"
      ],
      "execution_count": 121,
      "outputs": [
        {
          "output_type": "stream",
          "text": [
            "[[75.  1.]\n",
            " [55.  0.]\n",
            " [65.  0.]\n",
            " [50.  0.]\n",
            " [65.  0.]\n",
            " [90.  1.]]\n"
          ],
          "name": "stdout"
        }
      ]
    },
    {
      "cell_type": "markdown",
      "metadata": {
        "id": "34-Sw4Gd0C65"
      },
      "source": [
        "## Separando entre conjuntos de treinamento e teste"
      ]
    },
    {
      "cell_type": "code",
      "metadata": {
        "id": "RDxr9aFo0EJK"
      },
      "source": [
        "from sklearn.model_selection import train_test_split\n",
        "X_train, X_test, y_train, y_test = train_test_split(X, y, test_size = 0.25, random_state = 0)"
      ],
      "execution_count": 122,
      "outputs": []
    },
    {
      "cell_type": "markdown",
      "metadata": {
        "id": "Fhq9U2Lr0dWY"
      },
      "source": [
        "## Normalização "
      ]
    },
    {
      "cell_type": "code",
      "metadata": {
        "id": "nFxvxFn40m2l"
      },
      "source": [
        "from sklearn.preprocessing import MinMaxScaler\n",
        "sc = MinMaxScaler()\n",
        "X_train = sc.fit_transform(X_train)\n",
        "\n",
        "X_test = sc.transform(X_test)"
      ],
      "execution_count": 123,
      "outputs": []
    },
    {
      "cell_type": "markdown",
      "metadata": {
        "id": "6lLEhp2N0xsX"
      },
      "source": [
        "## Treinamento"
      ]
    },
    {
      "cell_type": "code",
      "metadata": {
        "id": "WpwXTGpb0yqv"
      },
      "source": [
        "import tensorflow as tf"
      ],
      "execution_count": 124,
      "outputs": []
    },
    {
      "cell_type": "markdown",
      "metadata": {
        "id": "kknhVHw007fK"
      },
      "source": [
        "### Construíndo a estrutra da rede \n",
        "* Arquitetura "
      ]
    },
    {
      "cell_type": "code",
      "metadata": {
        "id": "6hQ9bHj508nr"
      },
      "source": [
        "# Inicialização \n",
        "classifier = tf.keras.models.Sequential()\n",
        "\n",
        "# Adicionando a camada de entrada e a primeira camada escondida  \n",
        "classifier.add( tf.keras.layers.Dense( activation = 'relu', input_dim = 2, units = 4, kernel_initializer = 'uniform'))\n",
        "\n",
        "# Adicionando a camada de saída \n",
        "classifier.add( tf.keras.layers.Dense( activation = 'sigmoid', units = 1, kernel_initializer = 'uniform'))"
      ],
      "execution_count": 125,
      "outputs": []
    },
    {
      "cell_type": "code",
      "metadata": {
        "id": "8ecwBa3h1H0P"
      },
      "source": [
        "# Montando a Rede \n",
        "classifier.compile(optimizer = 'adam', loss = 'binary_crossentropy', metrics = ['accuracy'])"
      ],
      "execution_count": 126,
      "outputs": []
    },
    {
      "cell_type": "markdown",
      "metadata": {
        "id": "ryehUKmh1QkT"
      },
      "source": [
        "### Executando o treinamento "
      ]
    },
    {
      "cell_type": "code",
      "metadata": {
        "colab": {
          "base_uri": "https://localhost:8080/"
        },
        "id": "xf9PP1W61YsR",
        "outputId": "0f6c7cff-e200-420b-b6ee-977b2af76282"
      },
      "source": [
        "classifier.fit(X_train, y_train, batch_size = 1, epochs = 120)"
      ],
      "execution_count": 127,
      "outputs": [
        {
          "output_type": "stream",
          "text": [
            "Epoch 1/120\n",
            "224/224 [==============================] - 0s 815us/step - loss: 0.6899 - accuracy: 0.6054\n",
            "Epoch 2/120\n",
            "224/224 [==============================] - 0s 835us/step - loss: 0.6717 - accuracy: 0.7009\n",
            "Epoch 3/120\n",
            "224/224 [==============================] - 0s 885us/step - loss: 0.6667 - accuracy: 0.6392\n",
            "Epoch 4/120\n",
            "224/224 [==============================] - 0s 837us/step - loss: 0.6378 - accuracy: 0.7015\n",
            "Epoch 5/120\n",
            "224/224 [==============================] - 0s 823us/step - loss: 0.6221 - accuracy: 0.7247\n",
            "Epoch 6/120\n",
            "224/224 [==============================] - 0s 817us/step - loss: 0.6511 - accuracy: 0.6516\n",
            "Epoch 7/120\n",
            "224/224 [==============================] - 0s 823us/step - loss: 0.6288 - accuracy: 0.6956\n",
            "Epoch 8/120\n",
            "224/224 [==============================] - 0s 990us/step - loss: 0.6149 - accuracy: 0.7075\n",
            "Epoch 9/120\n",
            "224/224 [==============================] - 0s 896us/step - loss: 0.6189 - accuracy: 0.6987\n",
            "Epoch 10/120\n",
            "224/224 [==============================] - 0s 869us/step - loss: 0.6062 - accuracy: 0.7131\n",
            "Epoch 11/120\n",
            "224/224 [==============================] - 0s 937us/step - loss: 0.5935 - accuracy: 0.7317\n",
            "Epoch 12/120\n",
            "224/224 [==============================] - 0s 953us/step - loss: 0.5722 - accuracy: 0.7581\n",
            "Epoch 13/120\n",
            "224/224 [==============================] - 0s 928us/step - loss: 0.6106 - accuracy: 0.7073\n",
            "Epoch 14/120\n",
            "224/224 [==============================] - 0s 845us/step - loss: 0.6021 - accuracy: 0.7178\n",
            "Epoch 15/120\n",
            "224/224 [==============================] - 0s 884us/step - loss: 0.6465 - accuracy: 0.6535\n",
            "Epoch 16/120\n",
            "224/224 [==============================] - 0s 863us/step - loss: 0.6109 - accuracy: 0.7026\n",
            "Epoch 17/120\n",
            "224/224 [==============================] - 0s 845us/step - loss: 0.5916 - accuracy: 0.7257\n",
            "Epoch 18/120\n",
            "224/224 [==============================] - 0s 868us/step - loss: 0.5967 - accuracy: 0.7217\n",
            "Epoch 19/120\n",
            "224/224 [==============================] - 0s 873us/step - loss: 0.6511 - accuracy: 0.6420\n",
            "Epoch 20/120\n",
            "224/224 [==============================] - 0s 901us/step - loss: 0.5776 - accuracy: 0.7389\n",
            "Epoch 21/120\n",
            "224/224 [==============================] - 0s 974us/step - loss: 0.6320 - accuracy: 0.6643\n",
            "Epoch 22/120\n",
            "224/224 [==============================] - 0s 981us/step - loss: 0.5888 - accuracy: 0.7181\n",
            "Epoch 23/120\n",
            "224/224 [==============================] - 0s 892us/step - loss: 0.6227 - accuracy: 0.6762\n",
            "Epoch 24/120\n",
            "224/224 [==============================] - 0s 896us/step - loss: 0.6100 - accuracy: 0.6964\n",
            "Epoch 25/120\n",
            "224/224 [==============================] - 0s 914us/step - loss: 0.5883 - accuracy: 0.7177\n",
            "Epoch 26/120\n",
            "224/224 [==============================] - 0s 876us/step - loss: 0.6219 - accuracy: 0.6702\n",
            "Epoch 27/120\n",
            "224/224 [==============================] - 0s 884us/step - loss: 0.6044 - accuracy: 0.7022\n",
            "Epoch 28/120\n",
            "224/224 [==============================] - 0s 931us/step - loss: 0.6210 - accuracy: 0.6748\n",
            "Epoch 29/120\n",
            "224/224 [==============================] - 0s 933us/step - loss: 0.6030 - accuracy: 0.6911\n",
            "Epoch 30/120\n",
            "224/224 [==============================] - 0s 869us/step - loss: 0.6262 - accuracy: 0.6726\n",
            "Epoch 31/120\n",
            "224/224 [==============================] - 0s 944us/step - loss: 0.5806 - accuracy: 0.7290\n",
            "Epoch 32/120\n",
            "224/224 [==============================] - 0s 1ms/step - loss: 0.6216 - accuracy: 0.6692\n",
            "Epoch 33/120\n",
            "224/224 [==============================] - 0s 991us/step - loss: 0.5754 - accuracy: 0.7334\n",
            "Epoch 34/120\n",
            "224/224 [==============================] - 0s 944us/step - loss: 0.6254 - accuracy: 0.6603\n",
            "Epoch 35/120\n",
            "224/224 [==============================] - 0s 913us/step - loss: 0.6055 - accuracy: 0.6869\n",
            "Epoch 36/120\n",
            "224/224 [==============================] - 0s 893us/step - loss: 0.6148 - accuracy: 0.6773\n",
            "Epoch 37/120\n",
            "224/224 [==============================] - 0s 948us/step - loss: 0.6336 - accuracy: 0.6546\n",
            "Epoch 38/120\n",
            "224/224 [==============================] - 0s 897us/step - loss: 0.6083 - accuracy: 0.6817\n",
            "Epoch 39/120\n",
            "224/224 [==============================] - 0s 932us/step - loss: 0.6008 - accuracy: 0.6785\n",
            "Epoch 40/120\n",
            "224/224 [==============================] - 0s 871us/step - loss: 0.5475 - accuracy: 0.7414\n",
            "Epoch 41/120\n",
            "224/224 [==============================] - 0s 975us/step - loss: 0.5729 - accuracy: 0.7159\n",
            "Epoch 42/120\n",
            "224/224 [==============================] - 0s 999us/step - loss: 0.6104 - accuracy: 0.6661\n",
            "Epoch 43/120\n",
            "224/224 [==============================] - 0s 1ms/step - loss: 0.5826 - accuracy: 0.7097\n",
            "Epoch 44/120\n",
            "224/224 [==============================] - 0s 949us/step - loss: 0.5976 - accuracy: 0.6929\n",
            "Epoch 45/120\n",
            "224/224 [==============================] - 0s 893us/step - loss: 0.6217 - accuracy: 0.6731\n",
            "Epoch 46/120\n",
            "224/224 [==============================] - 0s 853us/step - loss: 0.6395 - accuracy: 0.6437\n",
            "Epoch 47/120\n",
            "224/224 [==============================] - 0s 1ms/step - loss: 0.5753 - accuracy: 0.7179\n",
            "Epoch 48/120\n",
            "224/224 [==============================] - 0s 894us/step - loss: 0.6081 - accuracy: 0.7002\n",
            "Epoch 49/120\n",
            "224/224 [==============================] - 0s 876us/step - loss: 0.5733 - accuracy: 0.7157\n",
            "Epoch 50/120\n",
            "224/224 [==============================] - 0s 931us/step - loss: 0.5958 - accuracy: 0.7054\n",
            "Epoch 51/120\n",
            "224/224 [==============================] - 0s 948us/step - loss: 0.6066 - accuracy: 0.6926\n",
            "Epoch 52/120\n",
            "224/224 [==============================] - 0s 873us/step - loss: 0.6040 - accuracy: 0.6922\n",
            "Epoch 53/120\n",
            "224/224 [==============================] - 0s 881us/step - loss: 0.6029 - accuracy: 0.6919\n",
            "Epoch 54/120\n",
            "224/224 [==============================] - 0s 860us/step - loss: 0.5719 - accuracy: 0.7228\n",
            "Epoch 55/120\n",
            "224/224 [==============================] - 0s 931us/step - loss: 0.6008 - accuracy: 0.6918\n",
            "Epoch 56/120\n",
            "224/224 [==============================] - 0s 932us/step - loss: 0.6019 - accuracy: 0.6646\n",
            "Epoch 57/120\n",
            "224/224 [==============================] - 0s 934us/step - loss: 0.6198 - accuracy: 0.6796\n",
            "Epoch 58/120\n",
            "224/224 [==============================] - 0s 886us/step - loss: 0.5806 - accuracy: 0.6997\n",
            "Epoch 59/120\n",
            "224/224 [==============================] - 0s 899us/step - loss: 0.5806 - accuracy: 0.6956\n",
            "Epoch 60/120\n",
            "224/224 [==============================] - 0s 859us/step - loss: 0.5563 - accuracy: 0.7177\n",
            "Epoch 61/120\n",
            "224/224 [==============================] - 0s 965us/step - loss: 0.5655 - accuracy: 0.7378\n",
            "Epoch 62/120\n",
            "224/224 [==============================] - 0s 888us/step - loss: 0.5879 - accuracy: 0.7102\n",
            "Epoch 63/120\n",
            "224/224 [==============================] - 0s 969us/step - loss: 0.6043 - accuracy: 0.6735\n",
            "Epoch 64/120\n",
            "224/224 [==============================] - 0s 945us/step - loss: 0.5702 - accuracy: 0.7244\n",
            "Epoch 65/120\n",
            "224/224 [==============================] - 0s 917us/step - loss: 0.6735 - accuracy: 0.5938\n",
            "Epoch 66/120\n",
            "224/224 [==============================] - 0s 958us/step - loss: 0.5793 - accuracy: 0.7077\n",
            "Epoch 67/120\n",
            "224/224 [==============================] - 0s 947us/step - loss: 0.5846 - accuracy: 0.6780\n",
            "Epoch 68/120\n",
            "224/224 [==============================] - 0s 900us/step - loss: 0.6366 - accuracy: 0.6630\n",
            "Epoch 69/120\n",
            "224/224 [==============================] - 0s 966us/step - loss: 0.5883 - accuracy: 0.7221\n",
            "Epoch 70/120\n",
            "224/224 [==============================] - 0s 918us/step - loss: 0.5879 - accuracy: 0.6860\n",
            "Epoch 71/120\n",
            "224/224 [==============================] - 0s 952us/step - loss: 0.5591 - accuracy: 0.7413\n",
            "Epoch 72/120\n",
            "224/224 [==============================] - 0s 873us/step - loss: 0.5994 - accuracy: 0.6885\n",
            "Epoch 73/120\n",
            "224/224 [==============================] - 0s 945us/step - loss: 0.5852 - accuracy: 0.7110\n",
            "Epoch 74/120\n",
            "224/224 [==============================] - 0s 958us/step - loss: 0.5968 - accuracy: 0.7079\n",
            "Epoch 75/120\n",
            "224/224 [==============================] - 0s 970us/step - loss: 0.5614 - accuracy: 0.7302\n",
            "Epoch 76/120\n",
            "224/224 [==============================] - 0s 944us/step - loss: 0.6257 - accuracy: 0.6736\n",
            "Epoch 77/120\n",
            "224/224 [==============================] - 0s 893us/step - loss: 0.5883 - accuracy: 0.7200\n",
            "Epoch 78/120\n",
            "224/224 [==============================] - 0s 896us/step - loss: 0.5406 - accuracy: 0.7570\n",
            "Epoch 79/120\n",
            "224/224 [==============================] - 0s 925us/step - loss: 0.6174 - accuracy: 0.6766\n",
            "Epoch 80/120\n",
            "224/224 [==============================] - 0s 952us/step - loss: 0.5408 - accuracy: 0.7477\n",
            "Epoch 81/120\n",
            "224/224 [==============================] - 0s 956us/step - loss: 0.5669 - accuracy: 0.7174\n",
            "Epoch 82/120\n",
            "224/224 [==============================] - 0s 901us/step - loss: 0.6171 - accuracy: 0.7019\n",
            "Epoch 83/120\n",
            "224/224 [==============================] - 0s 944us/step - loss: 0.5963 - accuracy: 0.6928\n",
            "Epoch 84/120\n",
            "224/224 [==============================] - 0s 893us/step - loss: 0.5924 - accuracy: 0.7243\n",
            "Epoch 85/120\n",
            "224/224 [==============================] - 0s 990us/step - loss: 0.6199 - accuracy: 0.6779\n",
            "Epoch 86/120\n",
            "224/224 [==============================] - 0s 898us/step - loss: 0.5509 - accuracy: 0.7564\n",
            "Epoch 87/120\n",
            "224/224 [==============================] - 0s 985us/step - loss: 0.5727 - accuracy: 0.7395\n",
            "Epoch 88/120\n",
            "224/224 [==============================] - 0s 957us/step - loss: 0.5511 - accuracy: 0.7457\n",
            "Epoch 89/120\n",
            "224/224 [==============================] - 0s 1ms/step - loss: 0.5693 - accuracy: 0.7372\n",
            "Epoch 90/120\n",
            "224/224 [==============================] - 0s 943us/step - loss: 0.5520 - accuracy: 0.7604\n",
            "Epoch 91/120\n",
            "224/224 [==============================] - 0s 971us/step - loss: 0.5866 - accuracy: 0.7234\n",
            "Epoch 92/120\n",
            "224/224 [==============================] - 0s 1ms/step - loss: 0.6217 - accuracy: 0.6843\n",
            "Epoch 93/120\n",
            "224/224 [==============================] - 0s 951us/step - loss: 0.6029 - accuracy: 0.7204\n",
            "Epoch 94/120\n",
            "224/224 [==============================] - 0s 944us/step - loss: 0.5734 - accuracy: 0.7504\n",
            "Epoch 95/120\n",
            "224/224 [==============================] - 0s 943us/step - loss: 0.5920 - accuracy: 0.7172\n",
            "Epoch 96/120\n",
            "224/224 [==============================] - 0s 947us/step - loss: 0.5591 - accuracy: 0.7451\n",
            "Epoch 97/120\n",
            "224/224 [==============================] - 0s 1ms/step - loss: 0.6120 - accuracy: 0.7005\n",
            "Epoch 98/120\n",
            "224/224 [==============================] - 0s 997us/step - loss: 0.5657 - accuracy: 0.7158\n",
            "Epoch 99/120\n",
            "224/224 [==============================] - 0s 1ms/step - loss: 0.6036 - accuracy: 0.7116\n",
            "Epoch 100/120\n",
            "224/224 [==============================] - 0s 1ms/step - loss: 0.5664 - accuracy: 0.7337\n",
            "Epoch 101/120\n",
            "224/224 [==============================] - 0s 945us/step - loss: 0.5420 - accuracy: 0.7325\n",
            "Epoch 102/120\n",
            "224/224 [==============================] - 0s 887us/step - loss: 0.5672 - accuracy: 0.7306\n",
            "Epoch 103/120\n",
            "224/224 [==============================] - 0s 973us/step - loss: 0.5536 - accuracy: 0.7448\n",
            "Epoch 104/120\n",
            "224/224 [==============================] - 0s 941us/step - loss: 0.5923 - accuracy: 0.7196\n",
            "Epoch 105/120\n",
            "224/224 [==============================] - 0s 883us/step - loss: 0.6173 - accuracy: 0.7093\n",
            "Epoch 106/120\n",
            "224/224 [==============================] - 0s 977us/step - loss: 0.6467 - accuracy: 0.6847\n",
            "Epoch 107/120\n",
            "224/224 [==============================] - 0s 930us/step - loss: 0.5772 - accuracy: 0.7406\n",
            "Epoch 108/120\n",
            "224/224 [==============================] - 0s 961us/step - loss: 0.5642 - accuracy: 0.7570\n",
            "Epoch 109/120\n",
            "224/224 [==============================] - 0s 957us/step - loss: 0.5639 - accuracy: 0.7421\n",
            "Epoch 110/120\n",
            "224/224 [==============================] - 0s 886us/step - loss: 0.5854 - accuracy: 0.7230\n",
            "Epoch 111/120\n",
            "224/224 [==============================] - 0s 893us/step - loss: 0.5967 - accuracy: 0.7160\n",
            "Epoch 112/120\n",
            "224/224 [==============================] - 0s 999us/step - loss: 0.6233 - accuracy: 0.6999\n",
            "Epoch 113/120\n",
            "224/224 [==============================] - 0s 910us/step - loss: 0.5376 - accuracy: 0.7900\n",
            "Epoch 114/120\n",
            "224/224 [==============================] - 0s 1ms/step - loss: 0.6483 - accuracy: 0.6978\n",
            "Epoch 115/120\n",
            "224/224 [==============================] - 0s 884us/step - loss: 0.6003 - accuracy: 0.7402\n",
            "Epoch 116/120\n",
            "224/224 [==============================] - 0s 889us/step - loss: 0.6196 - accuracy: 0.7097\n",
            "Epoch 117/120\n",
            "224/224 [==============================] - 0s 989us/step - loss: 0.6292 - accuracy: 0.6966\n",
            "Epoch 118/120\n",
            "224/224 [==============================] - 0s 994us/step - loss: 0.6168 - accuracy: 0.6691\n",
            "Epoch 119/120\n",
            "224/224 [==============================] - 0s 954us/step - loss: 0.5532 - accuracy: 0.7592\n",
            "Epoch 120/120\n",
            "224/224 [==============================] - 0s 1ms/step - loss: 0.5827 - accuracy: 0.7377\n"
          ],
          "name": "stdout"
        },
        {
          "output_type": "execute_result",
          "data": {
            "text/plain": [
              "<tensorflow.python.keras.callbacks.History at 0x7ff9429cf450>"
            ]
          },
          "metadata": {
            "tags": []
          },
          "execution_count": 127
        }
      ]
    },
    {
      "cell_type": "markdown",
      "metadata": {
        "id": "m54VPn4G1lm7"
      },
      "source": [
        "## Avaliando do Modelo (Métrica)"
      ]
    },
    {
      "cell_type": "code",
      "metadata": {
        "colab": {
          "base_uri": "https://localhost:8080/"
        },
        "id": "15UmzjCy1oOl",
        "outputId": "e5f4ccca-cb9c-45e2-b57b-b15394af0ecb"
      },
      "source": [
        "y_pred = classifier.predict(X_test)\n",
        "\n",
        "print(y_test[0:35])\n",
        "print(y_pred[0:35])"
      ],
      "execution_count": 128,
      "outputs": [
        {
          "output_type": "stream",
          "text": [
            "[0 0 1 0 0 0 0 0 1 0 0 1 1 1 1 1 0 0 0 0 0 0 1 0 1 0 1 0 0 0 0 1 1 0 1]\n",
            "[[0.14012724]\n",
            " [0.31579953]\n",
            " [0.16587746]\n",
            " [0.2620766 ]\n",
            " [0.3872107 ]\n",
            " [0.33397347]\n",
            " [0.33397347]\n",
            " [0.20038095]\n",
            " [0.2846557 ]\n",
            " [0.31372657]\n",
            " [0.41543153]\n",
            " [0.523948  ]\n",
            " [0.26620364]\n",
            " [0.23999637]\n",
            " [0.39316148]\n",
            " [0.37629703]\n",
            " [0.14012724]\n",
            " [0.3872107 ]\n",
            " [0.2620766 ]\n",
            " [0.23614487]\n",
            " [0.5008448 ]\n",
            " [0.14756092]\n",
            " [0.2846557 ]\n",
            " [0.22353464]\n",
            " [0.42059708]\n",
            " [0.3091732 ]\n",
            " [0.18277857]\n",
            " [0.23999637]\n",
            " [0.3292672 ]\n",
            " [0.22353464]\n",
            " [0.14756092]\n",
            " [0.14756092]\n",
            " [0.33397347]\n",
            " [0.2846557 ]\n",
            " [0.25323242]]\n"
          ],
          "name": "stdout"
        }
      ]
    },
    {
      "cell_type": "code",
      "metadata": {
        "id": "fWMnYFKV16Hc"
      },
      "source": [
        "y_pred_bin = [ ( 1 if elem > 0.5 else 0) for elem in y_pred ] "
      ],
      "execution_count": 129,
      "outputs": []
    },
    {
      "cell_type": "code",
      "metadata": {
        "id": "w5Vob-aj1_Fj"
      },
      "source": [
        "import numpy as np\n",
        "\n",
        "y_pred_bin =  np.array(y_pred_bin)"
      ],
      "execution_count": 130,
      "outputs": []
    },
    {
      "cell_type": "code",
      "metadata": {
        "colab": {
          "base_uri": "https://localhost:8080/"
        },
        "id": "Krbl1_TT2Ddo",
        "outputId": "e3af74dc-aa44-48fa-e8e4-52f349acfcd3"
      },
      "source": [
        "print(y_test[0:35])\n",
        "print(y_pred_bin[0:35])"
      ],
      "execution_count": 131,
      "outputs": [
        {
          "output_type": "stream",
          "text": [
            "[0 0 1 0 0 0 0 0 1 0 0 1 1 1 1 1 0 0 0 0 0 0 1 0 1 0 1 0 0 0 0 1 1 0 1]\n",
            "[0 0 0 0 0 0 0 0 0 0 0 1 0 0 0 0 0 0 0 0 1 0 0 0 0 0 0 0 0 0 0 0 0 0 0]\n"
          ],
          "name": "stdout"
        }
      ]
    },
    {
      "cell_type": "code",
      "metadata": {
        "colab": {
          "base_uri": "https://localhost:8080/"
        },
        "id": "6cZMQks52hqF",
        "outputId": "a128aa82-a5c9-4664-b016-2b65d7ebed3f"
      },
      "source": [
        "from sklearn.metrics import accuracy_score\n",
        "\n",
        "print(\"Acurácia: \", accuracy_score(y_test,y_pred_bin)*100, \"%\"  )"
      ],
      "execution_count": 132,
      "outputs": [
        {
          "output_type": "stream",
          "text": [
            "Acurácia:  65.33333333333333 %\n"
          ],
          "name": "stdout"
        }
      ]
    },
    {
      "cell_type": "code",
      "metadata": {
        "colab": {
          "base_uri": "https://localhost:8080/"
        },
        "id": "JB1PEbXH2tF6",
        "outputId": "93251d1b-8859-4b8d-cc69-d9c10e655c76"
      },
      "source": [
        "from sklearn.metrics import confusion_matrix\n",
        "cm = confusion_matrix(y_test, y_pred_bin)\n",
        "print(\"Matrix de confusão: \")\n",
        "print(cm)\n"
      ],
      "execution_count": 133,
      "outputs": [
        {
          "output_type": "stream",
          "text": [
            "Matrix de confusão: \n",
            "[[45  3]\n",
            " [23  4]]\n"
          ],
          "name": "stdout"
        }
      ]
    },
    {
      "cell_type": "markdown",
      "metadata": {
        "id": "QhVMqjVtCSoe"
      },
      "source": [
        "## Visualizando os resultados"
      ]
    },
    {
      "cell_type": "code",
      "metadata": {
        "colab": {
          "base_uri": "https://localhost:8080/",
          "height": 295
        },
        "id": "qF6s0KATGijW",
        "outputId": "0ca5411d-95dd-4294-aaa5-f7efb06a2132"
      },
      "source": [
        "import matplotlib.pyplot as plt\n",
        "\n",
        "Age_neg = X_train[y_train == 0, 0]\n",
        "High_blood_pressure_neg = X_train[y_train == 0, 1]\n",
        "Age_pos = X_train[y_train == 1, 0]\n",
        "High_blood_pressure_pos = X_train[y_train == 1, 1]\n",
        "\n",
        "plt.scatter(Age_pos,High_blood_pressure_pos, color='red', label = 'Morreu')\n",
        "plt.scatter(Age_neg,High_blood_pressure_neg, color='green', label = 'Não morreu')\n",
        "\n",
        "plt.title('MLP - Conjunto de Treinamento')\n",
        "plt.xlabel('Age')\n",
        "plt.ylabel('High blood pressure')\n",
        "plt.legend()\n",
        "plt.show()"
      ],
      "execution_count": 135,
      "outputs": [
        {
          "output_type": "display_data",
          "data": {
            "image/png": "[encoded data removed]",
            "text/plain": [
              "<Figure size 432x288 with 1 Axes>"
            ]
          },
          "metadata": {
            "tags": [],
            "needs_background": "light"
          }
        }
      ]
    },
    {
      "cell_type": "code",
      "metadata": {
        "colab": {
          "base_uri": "https://localhost:8080/",
          "height": 282
        },
        "id": "QjViLVE0HSi0",
        "outputId": "5009e815-580f-45c7-d183-98632723d752"
      },
      "source": [
        "vx = np.arange(-0.1, 1.1, 0.025) \n",
        "vy = np.arange(-0.1, 1.1, 0.025)\n",
        "X1, X2 = np.meshgrid(vx,vy) \n",
        "\n",
        "y_pred_mesh =  classifier.predict(np.array([X1.ravel(),X2.ravel()]).T ).reshape(X1.shape)\n",
        "\n",
        "from matplotlib.colors import ListedColormap\n",
        "plt.contourf(X1,X2, y_pred_mesh, alpha  = 0.5, cmap = ListedColormap(('green','red')))"
      ],
      "execution_count": 104,
      "outputs": [
        {
          "output_type": "execute_result",
          "data": {
            "text/plain": [
              "<matplotlib.contour.QuadContourSet at 0x7ff943f5c290>"
            ]
          },
          "metadata": {
            "tags": []
          },
          "execution_count": 104
        },
        {
          "output_type": "display_data",
          "data": {
            "image/png": "[encoded data removed]",
            "text/plain": [
              "<Figure size 432x288 with 1 Axes>"
            ]
          },
          "metadata": {
            "tags": [],
            "needs_background": "light"
          }
        }
      ]
    },
    {
      "cell_type": "code",
      "metadata": {
        "colab": {
          "base_uri": "https://localhost:8080/",
          "height": 295
        },
        "id": "iFUsdo8_PVcz",
        "outputId": "3371284c-5213-4872-f92e-46f4b0600062"
      },
      "source": [
        "Age_neg = X_train[y_train == 0, 0]\n",
        "High_blood_pressure_neg = X_train[y_train == 0, 1]\n",
        "Age_pos = X_train[y_train == 1, 0]\n",
        "High_blood_pressure_pos = X_train[y_train == 1, 1]\n",
        "\n",
        "plt.contourf(X1,X2, y_pred_mesh, alpha  = 0.5, cmap = ListedColormap(('green','red')))\n",
        "\n",
        "plt.scatter(Age_pos,High_blood_pressure_pos, color='red', label = 'Morreu')\n",
        "plt.scatter(Age_neg,High_blood_pressure_neg, color='green', label = 'Não morreu')\n",
        "\n",
        "plt.title('MLP - Conjunto de Treinamento')\n",
        "plt.xlabel('Age')\n",
        "plt.ylabel('High blood pressure')\n",
        "plt.legend()\n",
        "plt.show()"
      ],
      "execution_count": 136,
      "outputs": [
        {
          "output_type": "display_data",
          "data": {
            "image/png": "[encoded data removed]",
            "text/plain": [
              "<Figure size 432x288 with 1 Axes>"
            ]
          },
          "metadata": {
            "tags": [],
            "needs_background": "light"
          }
        }
      ]
    },
    {
      "cell_type": "markdown",
      "metadata": {
        "id": "2suyeZxRQID8"
      },
      "source": [
        "# **MLP usando a base de dados: fashion_mnist**"
      ]
    },
    {
      "cell_type": "code",
      "metadata": {
        "id": "M6KSZU36QR7N"
      },
      "source": [
        "# Bibliotecas \n",
        "import numpy as np\n",
        "import matplotlib.pyplot as plt \n",
        "import tensorflow as tf\n",
        "import random "
      ],
      "execution_count": 176,
      "outputs": []
    },
    {
      "cell_type": "markdown",
      "metadata": {
        "id": "sZxySJfsRcXr"
      },
      "source": [
        "## Carregando os dados"
      ]
    },
    {
      "cell_type": "code",
      "metadata": {
        "id": "R-IKJWKARdSb"
      },
      "source": [
        "fashion_mnist = tf.keras.datasets.fashion_mnist"
      ],
      "execution_count": 177,
      "outputs": []
    },
    {
      "cell_type": "markdown",
      "metadata": {
        "id": "gicrH2XtRsYJ"
      },
      "source": [
        "## Dividindo para terinamento e teste"
      ]
    },
    {
      "cell_type": "code",
      "metadata": {
        "id": "vwlCD2tWRt8w"
      },
      "source": [
        "(X_train, y_train), (X_test, y_test) = fashion_mnist.load_data()"
      ],
      "execution_count": 178,
      "outputs": []
    },
    {
      "cell_type": "markdown",
      "metadata": {
        "id": "Qsd-4ramR8ND"
      },
      "source": [
        "## Visualizando os dados"
      ]
    },
    {
      "cell_type": "code",
      "metadata": {
        "colab": {
          "base_uri": "https://localhost:8080/"
        },
        "id": "WfINlRmdR9Px",
        "outputId": "34b197b2-35ad-44d8-c968-615b19c0f1b5"
      },
      "source": [
        "print(X_train.shape)\n",
        "print(X_test.shape)"
      ],
      "execution_count": 179,
      "outputs": [
        {
          "output_type": "stream",
          "text": [
            "(60000, 28, 28)\n",
            "(10000, 28, 28)\n"
          ],
          "name": "stdout"
        }
      ]
    },
    {
      "cell_type": "code",
      "metadata": {
        "colab": {
          "base_uri": "https://localhost:8080/",
          "height": 718
        },
        "id": "0JImnMPrSIxO",
        "outputId": "c9e6a6ea-5f13-45b4-ea02-46b49a22499c"
      },
      "source": [
        "num_of_samples = []\n",
        "cols = 5; \n",
        "num_classes = 10; \n",
        "\n",
        "fig, axs = plt.subplots(nrows=num_classes, ncols = cols, figsize=(5,10))\n",
        "fig.tight_layout()\n",
        "\n",
        "for j in range(num_classes):\n",
        "  x_selected = X_train[y_train == j]\n",
        "  \n",
        "  for i in range(cols):\n",
        "    axs[j][i].imshow(x_selected[random.randint(0, len(x_selected - 1)), :, :], cmap=plt.get_cmap(\"gray\"))\n",
        "    axs[j][i].axis(\"off\")\n",
        "    if i == 2:\n",
        "      axs[j][i].set_title(str(j))\n",
        "      num_of_samples.append(len(x_selected))\n",
        "      "
      ],
      "execution_count": 185,
      "outputs": [
        {
          "output_type": "display_data",
          "data": {
            "image/png": "[encoded data removed]",
            "text/plain": [
              "<Figure size 360x720 with 50 Axes>"
            ]
          },
          "metadata": {
            "tags": [],
            "needs_background": "light"
          }
        }
      ]
    },
    {
      "cell_type": "code",
      "metadata": {
        "colab": {
          "base_uri": "https://localhost:8080/",
          "height": 329
        },
        "id": "JrGuBo96SexP",
        "outputId": "9ded60a4-7361-4227-cd11-9ff8350158cd"
      },
      "source": [
        "print(num_of_samples)\n",
        "plt.figure(figsize=(12,4))\n",
        "plt.bar(range(0, num_classes), num_of_samples)\n",
        "plt.title(\"Distribuição dos dados de treinamento\")\n",
        "plt.xlabel(\"Número da classe\")\n",
        "plt.ylabel(\"Número de imagens\")"
      ],
      "execution_count": 186,
      "outputs": [
        {
          "output_type": "stream",
          "text": [
            "[6000, 6000, 6000, 6000, 6000, 6000, 6000, 6000, 6000, 6000]\n"
          ],
          "name": "stdout"
        },
        {
          "output_type": "execute_result",
          "data": {
            "text/plain": [
              "Text(0, 0.5, 'Número de imagens')"
            ]
          },
          "metadata": {
            "tags": []
          },
          "execution_count": 186
        },
        {
          "output_type": "display_data",
          "data": {
            "image/png": "[encoded data removed]",
            "text/plain": [
              "<Figure size 864x288 with 1 Axes>"
            ]
          },
          "metadata": {
            "tags": [],
            "needs_background": "light"
          }
        }
      ]
    },
    {
      "cell_type": "markdown",
      "metadata": {
        "id": "zX4DUXvoa9OH"
      },
      "source": [
        "## Tratando os dados para o treinamento"
      ]
    },
    {
      "cell_type": "code",
      "metadata": {
        "id": "_2o3ZFoSa-N6"
      },
      "source": [
        "y_train = tf.keras.utils.to_categorical(y_train,10)\n",
        "y_test = tf.keras.utils.to_categorical(y_test,10)"
      ],
      "execution_count": 187,
      "outputs": []
    },
    {
      "cell_type": "code",
      "metadata": {
        "id": "r5EbiyDTbG42"
      },
      "source": [
        "X_train = X_train/255.0\n",
        "X_test = X_test/255.0"
      ],
      "execution_count": 188,
      "outputs": []
    },
    {
      "cell_type": "code",
      "metadata": {
        "colab": {
          "base_uri": "https://localhost:8080/"
        },
        "id": "-wCBUNq2bKU_",
        "outputId": "6e503139-f248-469b-d6a5-91160c2761dd"
      },
      "source": [
        "num_pixels = 784\n",
        "X_train = X_train.reshape(X_train.shape[0], num_pixels)\n",
        "X_test = X_test.reshape(X_test.shape[0], num_pixels)\n",
        "\n",
        "print(X_test.shape)\n",
        "print(X_train.shape)"
      ],
      "execution_count": 189,
      "outputs": [
        {
          "output_type": "stream",
          "text": [
            "(10000, 784)\n",
            "(60000, 784)\n"
          ],
          "name": "stdout"
        }
      ]
    },
    {
      "cell_type": "markdown",
      "metadata": {
        "id": "2PpeZGQxbQKj"
      },
      "source": [
        "## Treinamento "
      ]
    },
    {
      "cell_type": "markdown",
      "metadata": {
        "id": "rtrs9G0DbWAU"
      },
      "source": [
        "### Construíndo a estrutura da rede"
      ]
    },
    {
      "cell_type": "code",
      "metadata": {
        "colab": {
          "base_uri": "https://localhost:8080/"
        },
        "id": "IZkJzbdubQ-Y",
        "outputId": "7cf54a12-66d0-46b1-e697-fa2c844fddae"
      },
      "source": [
        "model = tf.keras.models.Sequential()\n",
        "model.add(tf.keras.layers.Dense(400, input_dim=num_pixels, activation='relu'))\n",
        "model.add(tf.keras.layers.Dense(250, activation='relu'))\n",
        "model.add(tf.keras.layers.Dense(num_classes, activation='softmax'))\n",
        "model.compile(tf.keras.optimizers.Adam(lr=0.01), loss='categorical_crossentropy', metrics=['accuracy'])\n",
        "print(model.summary())"
      ],
      "execution_count": 190,
      "outputs": [
        {
          "output_type": "stream",
          "text": [
            "Model: \"sequential_10\"\n",
            "_________________________________________________________________\n",
            "Layer (type)                 Output Shape              Param #   \n",
            "=================================================================\n",
            "dense_20 (Dense)             (None, 400)               314000    \n",
            "_________________________________________________________________\n",
            "dense_21 (Dense)             (None, 250)               100250    \n",
            "_________________________________________________________________\n",
            "dense_22 (Dense)             (None, 10)                2510      \n",
            "=================================================================\n",
            "Total params: 416,760\n",
            "Trainable params: 416,760\n",
            "Non-trainable params: 0\n",
            "_________________________________________________________________\n",
            "None\n"
          ],
          "name": "stdout"
        }
      ]
    },
    {
      "cell_type": "markdown",
      "metadata": {
        "id": "VWljNdBIbhLe"
      },
      "source": [
        "### Treinando "
      ]
    },
    {
      "cell_type": "code",
      "metadata": {
        "colab": {
          "base_uri": "https://localhost:8080/"
        },
        "id": "0p8cGD6RbiGN",
        "outputId": "c15131fb-098e-4cba-b368-27c0e4b0c5be"
      },
      "source": [
        "history =  model.fit(X_train, y_train, validation_split=0.1, epochs=5, batch_size = 200, verbose = 1, shuffle = 1)"
      ],
      "execution_count": 191,
      "outputs": [
        {
          "output_type": "stream",
          "text": [
            "Epoch 1/5\n",
            "270/270 [==============================] - 4s 12ms/step - loss: 1.1092 - accuracy: 0.7083 - val_loss: 0.3948 - val_accuracy: 0.8568\n",
            "Epoch 2/5\n",
            "270/270 [==============================] - 3s 11ms/step - loss: 0.4003 - accuracy: 0.8562 - val_loss: 0.4216 - val_accuracy: 0.8557\n",
            "Epoch 3/5\n",
            "270/270 [==============================] - 3s 11ms/step - loss: 0.3535 - accuracy: 0.8733 - val_loss: 0.3718 - val_accuracy: 0.8670\n",
            "Epoch 4/5\n",
            "270/270 [==============================] - 3s 11ms/step - loss: 0.3324 - accuracy: 0.8803 - val_loss: 0.3581 - val_accuracy: 0.8725\n",
            "Epoch 5/5\n",
            "270/270 [==============================] - 3s 11ms/step - loss: 0.3253 - accuracy: 0.8805 - val_loss: 0.3874 - val_accuracy: 0.8582\n"
          ],
          "name": "stdout"
        }
      ]
    },
    {
      "cell_type": "markdown",
      "metadata": {
        "id": "sksOGpK-bwdK"
      },
      "source": [
        "### Avaliação do treinamento "
      ]
    },
    {
      "cell_type": "code",
      "metadata": {
        "colab": {
          "base_uri": "https://localhost:8080/",
          "height": 312
        },
        "id": "6JagVEjobxVV",
        "outputId": "acdfd906-3a9f-4d3d-fb79-d8f9286c7247"
      },
      "source": [
        "plt.plot(history.history['loss'])\n",
        "plt.plot(history.history['val_loss'])\n",
        "plt.legend(['loss', 'val_loss'])\n",
        "plt.title('Loss')\n",
        "plt.xlabel('Epoch')"
      ],
      "execution_count": 192,
      "outputs": [
        {
          "output_type": "execute_result",
          "data": {
            "text/plain": [
              "Text(0.5, 0, 'Epoch')"
            ]
          },
          "metadata": {
            "tags": []
          },
          "execution_count": 192
        },
        {
          "output_type": "display_data",
          "data": {
            "image/png": "[encoded data removed]",
            "text/plain": [
              "<Figure size 432x288 with 1 Axes>"
            ]
          },
          "metadata": {
            "tags": [],
            "needs_background": "light"
          }
        }
      ]
    },
    {
      "cell_type": "code",
      "metadata": {
        "colab": {
          "base_uri": "https://localhost:8080/"
        },
        "id": "T_m5DglEb7gI",
        "outputId": "88e7f729-862c-4628-8e42-15a6f8e91781"
      },
      "source": [
        "score = model.evaluate(X_test, y_test, verbose=0)\n",
        "print(type(score))\n",
        "print('Test score:',score[0])\n",
        "print('Test accuracy:',score[1])"
      ],
      "execution_count": 193,
      "outputs": [
        {
          "output_type": "stream",
          "text": [
            "<class 'list'>\n",
            "Test score: 0.4008863866329193\n",
            "Test accuracy: 0.8492000102996826\n"
          ],
          "name": "stdout"
        }
      ]
    }
  ]
}